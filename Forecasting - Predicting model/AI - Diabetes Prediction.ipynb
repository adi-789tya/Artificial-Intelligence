{
 "cells": [
  {
   "cell_type": "markdown",
   "metadata": {},
   "source": [
    "   # Diabetes Prediction"
   ]
  },
  {
   "cell_type": "markdown",
   "metadata": {},
   "source": [
    "Changing the working directory"
   ]
  },
  {
   "cell_type": "code",
   "execution_count": 2563,
   "metadata": {},
   "outputs": [],
   "source": [
    "import os"
   ]
  },
  {
   "cell_type": "code",
   "execution_count": 2564,
   "metadata": {},
   "outputs": [],
   "source": [
    "os.chdir(\"F:\\Avantika University\\Semester 6\\AI\\Assignment 2\")"
   ]
  },
  {
   "cell_type": "code",
   "execution_count": 2565,
   "metadata": {},
   "outputs": [
    {
     "data": {
      "text/plain": [
       "'F:\\\\Avantika University\\\\Semester 6\\\\AI\\\\Assignment 2'"
      ]
     },
     "execution_count": 2565,
     "metadata": {},
     "output_type": "execute_result"
    }
   ],
   "source": [
    "os.getcwd()"
   ]
  },
  {
   "cell_type": "markdown",
   "metadata": {},
   "source": [
    "Importing the Libraries"
   ]
  },
  {
   "cell_type": "code",
   "execution_count": 2566,
   "metadata": {},
   "outputs": [],
   "source": [
    "import pandas as pd\n",
    "import numpy as np\n",
    "import matplotlib.pyplot as plt\n",
    "import seaborn as sn\n",
    "import warnings\n",
    "warnings.filterwarnings('ignore')\n"
   ]
  },
  {
   "cell_type": "code",
   "execution_count": 2567,
   "metadata": {},
   "outputs": [],
   "source": [
    "from numpy.random import seed\n",
    "seed(3)\n",
    "import tensorflow as tf\n",
    "tf.random.set_seed(1)"
   ]
  },
  {
   "cell_type": "markdown",
   "metadata": {},
   "source": [
    "Loading the Dataset"
   ]
  },
  {
   "cell_type": "code",
   "execution_count": 2568,
   "metadata": {},
   "outputs": [],
   "source": [
    "data = pd.read_csv(\"diabetes.csv\")"
   ]
  },
  {
   "cell_type": "code",
   "execution_count": 2569,
   "metadata": {},
   "outputs": [
    {
     "data": {
      "text/html": [
       "<div>\n",
       "<style scoped>\n",
       "    .dataframe tbody tr th:only-of-type {\n",
       "        vertical-align: middle;\n",
       "    }\n",
       "\n",
       "    .dataframe tbody tr th {\n",
       "        vertical-align: top;\n",
       "    }\n",
       "\n",
       "    .dataframe thead th {\n",
       "        text-align: right;\n",
       "    }\n",
       "</style>\n",
       "<table border=\"1\" class=\"dataframe\">\n",
       "  <thead>\n",
       "    <tr style=\"text-align: right;\">\n",
       "      <th></th>\n",
       "      <th>Pregnancies</th>\n",
       "      <th>Glucose</th>\n",
       "      <th>BloodPressure</th>\n",
       "      <th>SkinThickness</th>\n",
       "      <th>Insulin</th>\n",
       "      <th>BMI</th>\n",
       "      <th>DiabetesPedigreeFunction</th>\n",
       "      <th>Age</th>\n",
       "      <th>Outcome</th>\n",
       "    </tr>\n",
       "  </thead>\n",
       "  <tbody>\n",
       "    <tr>\n",
       "      <th>0</th>\n",
       "      <td>6</td>\n",
       "      <td>148</td>\n",
       "      <td>72</td>\n",
       "      <td>35</td>\n",
       "      <td>0</td>\n",
       "      <td>33.6</td>\n",
       "      <td>0.627</td>\n",
       "      <td>50</td>\n",
       "      <td>1</td>\n",
       "    </tr>\n",
       "    <tr>\n",
       "      <th>1</th>\n",
       "      <td>1</td>\n",
       "      <td>85</td>\n",
       "      <td>66</td>\n",
       "      <td>29</td>\n",
       "      <td>0</td>\n",
       "      <td>26.6</td>\n",
       "      <td>0.351</td>\n",
       "      <td>31</td>\n",
       "      <td>0</td>\n",
       "    </tr>\n",
       "    <tr>\n",
       "      <th>2</th>\n",
       "      <td>8</td>\n",
       "      <td>183</td>\n",
       "      <td>64</td>\n",
       "      <td>0</td>\n",
       "      <td>0</td>\n",
       "      <td>23.3</td>\n",
       "      <td>0.672</td>\n",
       "      <td>32</td>\n",
       "      <td>1</td>\n",
       "    </tr>\n",
       "    <tr>\n",
       "      <th>3</th>\n",
       "      <td>1</td>\n",
       "      <td>89</td>\n",
       "      <td>66</td>\n",
       "      <td>23</td>\n",
       "      <td>94</td>\n",
       "      <td>28.1</td>\n",
       "      <td>0.167</td>\n",
       "      <td>21</td>\n",
       "      <td>0</td>\n",
       "    </tr>\n",
       "    <tr>\n",
       "      <th>4</th>\n",
       "      <td>0</td>\n",
       "      <td>137</td>\n",
       "      <td>40</td>\n",
       "      <td>35</td>\n",
       "      <td>168</td>\n",
       "      <td>43.1</td>\n",
       "      <td>2.288</td>\n",
       "      <td>33</td>\n",
       "      <td>1</td>\n",
       "    </tr>\n",
       "    <tr>\n",
       "      <th>...</th>\n",
       "      <td>...</td>\n",
       "      <td>...</td>\n",
       "      <td>...</td>\n",
       "      <td>...</td>\n",
       "      <td>...</td>\n",
       "      <td>...</td>\n",
       "      <td>...</td>\n",
       "      <td>...</td>\n",
       "      <td>...</td>\n",
       "    </tr>\n",
       "    <tr>\n",
       "      <th>763</th>\n",
       "      <td>10</td>\n",
       "      <td>101</td>\n",
       "      <td>76</td>\n",
       "      <td>48</td>\n",
       "      <td>180</td>\n",
       "      <td>32.9</td>\n",
       "      <td>0.171</td>\n",
       "      <td>63</td>\n",
       "      <td>0</td>\n",
       "    </tr>\n",
       "    <tr>\n",
       "      <th>764</th>\n",
       "      <td>2</td>\n",
       "      <td>122</td>\n",
       "      <td>70</td>\n",
       "      <td>27</td>\n",
       "      <td>0</td>\n",
       "      <td>36.8</td>\n",
       "      <td>0.340</td>\n",
       "      <td>27</td>\n",
       "      <td>0</td>\n",
       "    </tr>\n",
       "    <tr>\n",
       "      <th>765</th>\n",
       "      <td>5</td>\n",
       "      <td>121</td>\n",
       "      <td>72</td>\n",
       "      <td>23</td>\n",
       "      <td>112</td>\n",
       "      <td>26.2</td>\n",
       "      <td>0.245</td>\n",
       "      <td>30</td>\n",
       "      <td>0</td>\n",
       "    </tr>\n",
       "    <tr>\n",
       "      <th>766</th>\n",
       "      <td>1</td>\n",
       "      <td>126</td>\n",
       "      <td>60</td>\n",
       "      <td>0</td>\n",
       "      <td>0</td>\n",
       "      <td>30.1</td>\n",
       "      <td>0.349</td>\n",
       "      <td>47</td>\n",
       "      <td>1</td>\n",
       "    </tr>\n",
       "    <tr>\n",
       "      <th>767</th>\n",
       "      <td>1</td>\n",
       "      <td>93</td>\n",
       "      <td>70</td>\n",
       "      <td>31</td>\n",
       "      <td>0</td>\n",
       "      <td>30.4</td>\n",
       "      <td>0.315</td>\n",
       "      <td>23</td>\n",
       "      <td>0</td>\n",
       "    </tr>\n",
       "  </tbody>\n",
       "</table>\n",
       "<p>768 rows × 9 columns</p>\n",
       "</div>"
      ],
      "text/plain": [
       "     Pregnancies  Glucose  BloodPressure  SkinThickness  Insulin   BMI  \\\n",
       "0              6      148             72             35        0  33.6   \n",
       "1              1       85             66             29        0  26.6   \n",
       "2              8      183             64              0        0  23.3   \n",
       "3              1       89             66             23       94  28.1   \n",
       "4              0      137             40             35      168  43.1   \n",
       "..           ...      ...            ...            ...      ...   ...   \n",
       "763           10      101             76             48      180  32.9   \n",
       "764            2      122             70             27        0  36.8   \n",
       "765            5      121             72             23      112  26.2   \n",
       "766            1      126             60              0        0  30.1   \n",
       "767            1       93             70             31        0  30.4   \n",
       "\n",
       "     DiabetesPedigreeFunction  Age  Outcome  \n",
       "0                       0.627   50        1  \n",
       "1                       0.351   31        0  \n",
       "2                       0.672   32        1  \n",
       "3                       0.167   21        0  \n",
       "4                       2.288   33        1  \n",
       "..                        ...  ...      ...  \n",
       "763                     0.171   63        0  \n",
       "764                     0.340   27        0  \n",
       "765                     0.245   30        0  \n",
       "766                     0.349   47        1  \n",
       "767                     0.315   23        0  \n",
       "\n",
       "[768 rows x 9 columns]"
      ]
     },
     "execution_count": 2569,
     "metadata": {},
     "output_type": "execute_result"
    }
   ],
   "source": [
    "data"
   ]
  },
  {
   "cell_type": "code",
   "execution_count": 2570,
   "metadata": {},
   "outputs": [
    {
     "data": {
      "text/plain": [
       "Index(['Pregnancies', 'Glucose', 'BloodPressure', 'SkinThickness', 'Insulin',\n",
       "       'BMI', 'DiabetesPedigreeFunction', 'Age', 'Outcome'],\n",
       "      dtype='object')"
      ]
     },
     "execution_count": 2570,
     "metadata": {},
     "output_type": "execute_result"
    }
   ],
   "source": [
    "data.columns"
   ]
  },
  {
   "cell_type": "raw",
   "metadata": {},
   "source": [
    "Pragnancies   -> The number of pregnancies the patient has or had\n",
    "\n",
    "Glucose       -> Plasma glucose concentration a 2 hours in an oral glucose tolerance test\n",
    "\n",
    "BloodPressure -> Diastolic blood pressure (mm Hg)\n",
    "\n",
    "SkinThickness -> Triceps skin fold thickness (mm)\n",
    "\n",
    "Insulin       -> 2-Hour serum insulin (mu U/ml)\n",
    "\n",
    "BMI           -> Body mass index (weight in kg/(height in m)^2)\n",
    "\n",
    "Age           -> Age (years)\n",
    "\n",
    "Outcome       -> Class variable (0 or 1) 268 of 768 are 1, the others are 0\n",
    "\n",
    "DiabetesPedigreeFunction -> Diabetes pedigree function\n",
    "\n",
    "It provided some data on diabetes mellitus history in relatives and the genetic relationship of those relatives to the patient.\n"
   ]
  },
  {
   "cell_type": "code",
   "execution_count": 2571,
   "metadata": {},
   "outputs": [
    {
     "data": {
      "text/plain": [
       "(768, 9)"
      ]
     },
     "execution_count": 2571,
     "metadata": {},
     "output_type": "execute_result"
    }
   ],
   "source": [
    "data.shape"
   ]
  },
  {
   "cell_type": "code",
   "execution_count": 2572,
   "metadata": {},
   "outputs": [
    {
     "data": {
      "text/html": [
       "<div>\n",
       "<style scoped>\n",
       "    .dataframe tbody tr th:only-of-type {\n",
       "        vertical-align: middle;\n",
       "    }\n",
       "\n",
       "    .dataframe tbody tr th {\n",
       "        vertical-align: top;\n",
       "    }\n",
       "\n",
       "    .dataframe thead th {\n",
       "        text-align: right;\n",
       "    }\n",
       "</style>\n",
       "<table border=\"1\" class=\"dataframe\">\n",
       "  <thead>\n",
       "    <tr style=\"text-align: right;\">\n",
       "      <th></th>\n",
       "      <th>Pregnancies</th>\n",
       "      <th>Glucose</th>\n",
       "      <th>BloodPressure</th>\n",
       "      <th>SkinThickness</th>\n",
       "      <th>Insulin</th>\n",
       "      <th>BMI</th>\n",
       "      <th>DiabetesPedigreeFunction</th>\n",
       "      <th>Age</th>\n",
       "      <th>Outcome</th>\n",
       "    </tr>\n",
       "  </thead>\n",
       "  <tbody>\n",
       "    <tr>\n",
       "      <th>count</th>\n",
       "      <td>768.000000</td>\n",
       "      <td>768.000000</td>\n",
       "      <td>768.000000</td>\n",
       "      <td>768.000000</td>\n",
       "      <td>768.000000</td>\n",
       "      <td>768.000000</td>\n",
       "      <td>768.000000</td>\n",
       "      <td>768.000000</td>\n",
       "      <td>768.000000</td>\n",
       "    </tr>\n",
       "    <tr>\n",
       "      <th>mean</th>\n",
       "      <td>3.845052</td>\n",
       "      <td>120.894531</td>\n",
       "      <td>69.105469</td>\n",
       "      <td>20.536458</td>\n",
       "      <td>79.799479</td>\n",
       "      <td>31.992578</td>\n",
       "      <td>0.471876</td>\n",
       "      <td>33.240885</td>\n",
       "      <td>0.348958</td>\n",
       "    </tr>\n",
       "    <tr>\n",
       "      <th>std</th>\n",
       "      <td>3.369578</td>\n",
       "      <td>31.972618</td>\n",
       "      <td>19.355807</td>\n",
       "      <td>15.952218</td>\n",
       "      <td>115.244002</td>\n",
       "      <td>7.884160</td>\n",
       "      <td>0.331329</td>\n",
       "      <td>11.760232</td>\n",
       "      <td>0.476951</td>\n",
       "    </tr>\n",
       "    <tr>\n",
       "      <th>min</th>\n",
       "      <td>0.000000</td>\n",
       "      <td>0.000000</td>\n",
       "      <td>0.000000</td>\n",
       "      <td>0.000000</td>\n",
       "      <td>0.000000</td>\n",
       "      <td>0.000000</td>\n",
       "      <td>0.078000</td>\n",
       "      <td>21.000000</td>\n",
       "      <td>0.000000</td>\n",
       "    </tr>\n",
       "    <tr>\n",
       "      <th>25%</th>\n",
       "      <td>1.000000</td>\n",
       "      <td>99.000000</td>\n",
       "      <td>62.000000</td>\n",
       "      <td>0.000000</td>\n",
       "      <td>0.000000</td>\n",
       "      <td>27.300000</td>\n",
       "      <td>0.243750</td>\n",
       "      <td>24.000000</td>\n",
       "      <td>0.000000</td>\n",
       "    </tr>\n",
       "    <tr>\n",
       "      <th>50%</th>\n",
       "      <td>3.000000</td>\n",
       "      <td>117.000000</td>\n",
       "      <td>72.000000</td>\n",
       "      <td>23.000000</td>\n",
       "      <td>30.500000</td>\n",
       "      <td>32.000000</td>\n",
       "      <td>0.372500</td>\n",
       "      <td>29.000000</td>\n",
       "      <td>0.000000</td>\n",
       "    </tr>\n",
       "    <tr>\n",
       "      <th>75%</th>\n",
       "      <td>6.000000</td>\n",
       "      <td>140.250000</td>\n",
       "      <td>80.000000</td>\n",
       "      <td>32.000000</td>\n",
       "      <td>127.250000</td>\n",
       "      <td>36.600000</td>\n",
       "      <td>0.626250</td>\n",
       "      <td>41.000000</td>\n",
       "      <td>1.000000</td>\n",
       "    </tr>\n",
       "    <tr>\n",
       "      <th>max</th>\n",
       "      <td>17.000000</td>\n",
       "      <td>199.000000</td>\n",
       "      <td>122.000000</td>\n",
       "      <td>99.000000</td>\n",
       "      <td>846.000000</td>\n",
       "      <td>67.100000</td>\n",
       "      <td>2.420000</td>\n",
       "      <td>81.000000</td>\n",
       "      <td>1.000000</td>\n",
       "    </tr>\n",
       "  </tbody>\n",
       "</table>\n",
       "</div>"
      ],
      "text/plain": [
       "       Pregnancies     Glucose  BloodPressure  SkinThickness     Insulin  \\\n",
       "count   768.000000  768.000000     768.000000     768.000000  768.000000   \n",
       "mean      3.845052  120.894531      69.105469      20.536458   79.799479   \n",
       "std       3.369578   31.972618      19.355807      15.952218  115.244002   \n",
       "min       0.000000    0.000000       0.000000       0.000000    0.000000   \n",
       "25%       1.000000   99.000000      62.000000       0.000000    0.000000   \n",
       "50%       3.000000  117.000000      72.000000      23.000000   30.500000   \n",
       "75%       6.000000  140.250000      80.000000      32.000000  127.250000   \n",
       "max      17.000000  199.000000     122.000000      99.000000  846.000000   \n",
       "\n",
       "              BMI  DiabetesPedigreeFunction         Age     Outcome  \n",
       "count  768.000000                768.000000  768.000000  768.000000  \n",
       "mean    31.992578                  0.471876   33.240885    0.348958  \n",
       "std      7.884160                  0.331329   11.760232    0.476951  \n",
       "min      0.000000                  0.078000   21.000000    0.000000  \n",
       "25%     27.300000                  0.243750   24.000000    0.000000  \n",
       "50%     32.000000                  0.372500   29.000000    0.000000  \n",
       "75%     36.600000                  0.626250   41.000000    1.000000  \n",
       "max     67.100000                  2.420000   81.000000    1.000000  "
      ]
     },
     "execution_count": 2572,
     "metadata": {},
     "output_type": "execute_result"
    }
   ],
   "source": [
    "data.describe()"
   ]
  },
  {
   "cell_type": "code",
   "execution_count": 2573,
   "metadata": {},
   "outputs": [
    {
     "name": "stdout",
     "output_type": "stream",
     "text": [
      "<class 'pandas.core.frame.DataFrame'>\n",
      "RangeIndex: 768 entries, 0 to 767\n",
      "Data columns (total 9 columns):\n",
      " #   Column                    Non-Null Count  Dtype  \n",
      "---  ------                    --------------  -----  \n",
      " 0   Pregnancies               768 non-null    int64  \n",
      " 1   Glucose                   768 non-null    int64  \n",
      " 2   BloodPressure             768 non-null    int64  \n",
      " 3   SkinThickness             768 non-null    int64  \n",
      " 4   Insulin                   768 non-null    int64  \n",
      " 5   BMI                       768 non-null    float64\n",
      " 6   DiabetesPedigreeFunction  768 non-null    float64\n",
      " 7   Age                       768 non-null    int64  \n",
      " 8   Outcome                   768 non-null    int64  \n",
      "dtypes: float64(2), int64(7)\n",
      "memory usage: 54.1 KB\n"
     ]
    }
   ],
   "source": [
    "data.info()"
   ]
  },
  {
   "cell_type": "code",
   "execution_count": 2574,
   "metadata": {},
   "outputs": [
    {
     "data": {
      "text/html": [
       "<div>\n",
       "<style scoped>\n",
       "    .dataframe tbody tr th:only-of-type {\n",
       "        vertical-align: middle;\n",
       "    }\n",
       "\n",
       "    .dataframe tbody tr th {\n",
       "        vertical-align: top;\n",
       "    }\n",
       "\n",
       "    .dataframe thead th {\n",
       "        text-align: right;\n",
       "    }\n",
       "</style>\n",
       "<table border=\"1\" class=\"dataframe\">\n",
       "  <thead>\n",
       "    <tr style=\"text-align: right;\">\n",
       "      <th></th>\n",
       "      <th>Pregnancies</th>\n",
       "      <th>Glucose</th>\n",
       "      <th>BloodPressure</th>\n",
       "      <th>SkinThickness</th>\n",
       "      <th>Insulin</th>\n",
       "      <th>BMI</th>\n",
       "      <th>DiabetesPedigreeFunction</th>\n",
       "      <th>Age</th>\n",
       "      <th>Outcome</th>\n",
       "    </tr>\n",
       "  </thead>\n",
       "  <tbody>\n",
       "    <tr>\n",
       "      <th>Pregnancies</th>\n",
       "      <td>1.000000</td>\n",
       "      <td>0.129459</td>\n",
       "      <td>0.141282</td>\n",
       "      <td>-0.081672</td>\n",
       "      <td>-0.073535</td>\n",
       "      <td>0.017683</td>\n",
       "      <td>-0.033523</td>\n",
       "      <td>0.544341</td>\n",
       "      <td>0.221898</td>\n",
       "    </tr>\n",
       "    <tr>\n",
       "      <th>Glucose</th>\n",
       "      <td>0.129459</td>\n",
       "      <td>1.000000</td>\n",
       "      <td>0.152590</td>\n",
       "      <td>0.057328</td>\n",
       "      <td>0.331357</td>\n",
       "      <td>0.221071</td>\n",
       "      <td>0.137337</td>\n",
       "      <td>0.263514</td>\n",
       "      <td>0.466581</td>\n",
       "    </tr>\n",
       "    <tr>\n",
       "      <th>BloodPressure</th>\n",
       "      <td>0.141282</td>\n",
       "      <td>0.152590</td>\n",
       "      <td>1.000000</td>\n",
       "      <td>0.207371</td>\n",
       "      <td>0.088933</td>\n",
       "      <td>0.281805</td>\n",
       "      <td>0.041265</td>\n",
       "      <td>0.239528</td>\n",
       "      <td>0.065068</td>\n",
       "    </tr>\n",
       "    <tr>\n",
       "      <th>SkinThickness</th>\n",
       "      <td>-0.081672</td>\n",
       "      <td>0.057328</td>\n",
       "      <td>0.207371</td>\n",
       "      <td>1.000000</td>\n",
       "      <td>0.436783</td>\n",
       "      <td>0.392573</td>\n",
       "      <td>0.183928</td>\n",
       "      <td>-0.113970</td>\n",
       "      <td>0.074752</td>\n",
       "    </tr>\n",
       "    <tr>\n",
       "      <th>Insulin</th>\n",
       "      <td>-0.073535</td>\n",
       "      <td>0.331357</td>\n",
       "      <td>0.088933</td>\n",
       "      <td>0.436783</td>\n",
       "      <td>1.000000</td>\n",
       "      <td>0.197859</td>\n",
       "      <td>0.185071</td>\n",
       "      <td>-0.042163</td>\n",
       "      <td>0.130548</td>\n",
       "    </tr>\n",
       "    <tr>\n",
       "      <th>BMI</th>\n",
       "      <td>0.017683</td>\n",
       "      <td>0.221071</td>\n",
       "      <td>0.281805</td>\n",
       "      <td>0.392573</td>\n",
       "      <td>0.197859</td>\n",
       "      <td>1.000000</td>\n",
       "      <td>0.140647</td>\n",
       "      <td>0.036242</td>\n",
       "      <td>0.292695</td>\n",
       "    </tr>\n",
       "    <tr>\n",
       "      <th>DiabetesPedigreeFunction</th>\n",
       "      <td>-0.033523</td>\n",
       "      <td>0.137337</td>\n",
       "      <td>0.041265</td>\n",
       "      <td>0.183928</td>\n",
       "      <td>0.185071</td>\n",
       "      <td>0.140647</td>\n",
       "      <td>1.000000</td>\n",
       "      <td>0.033561</td>\n",
       "      <td>0.173844</td>\n",
       "    </tr>\n",
       "    <tr>\n",
       "      <th>Age</th>\n",
       "      <td>0.544341</td>\n",
       "      <td>0.263514</td>\n",
       "      <td>0.239528</td>\n",
       "      <td>-0.113970</td>\n",
       "      <td>-0.042163</td>\n",
       "      <td>0.036242</td>\n",
       "      <td>0.033561</td>\n",
       "      <td>1.000000</td>\n",
       "      <td>0.238356</td>\n",
       "    </tr>\n",
       "    <tr>\n",
       "      <th>Outcome</th>\n",
       "      <td>0.221898</td>\n",
       "      <td>0.466581</td>\n",
       "      <td>0.065068</td>\n",
       "      <td>0.074752</td>\n",
       "      <td>0.130548</td>\n",
       "      <td>0.292695</td>\n",
       "      <td>0.173844</td>\n",
       "      <td>0.238356</td>\n",
       "      <td>1.000000</td>\n",
       "    </tr>\n",
       "  </tbody>\n",
       "</table>\n",
       "</div>"
      ],
      "text/plain": [
       "                          Pregnancies   Glucose  BloodPressure  SkinThickness  \\\n",
       "Pregnancies                  1.000000  0.129459       0.141282      -0.081672   \n",
       "Glucose                      0.129459  1.000000       0.152590       0.057328   \n",
       "BloodPressure                0.141282  0.152590       1.000000       0.207371   \n",
       "SkinThickness               -0.081672  0.057328       0.207371       1.000000   \n",
       "Insulin                     -0.073535  0.331357       0.088933       0.436783   \n",
       "BMI                          0.017683  0.221071       0.281805       0.392573   \n",
       "DiabetesPedigreeFunction    -0.033523  0.137337       0.041265       0.183928   \n",
       "Age                          0.544341  0.263514       0.239528      -0.113970   \n",
       "Outcome                      0.221898  0.466581       0.065068       0.074752   \n",
       "\n",
       "                           Insulin       BMI  DiabetesPedigreeFunction  \\\n",
       "Pregnancies              -0.073535  0.017683                 -0.033523   \n",
       "Glucose                   0.331357  0.221071                  0.137337   \n",
       "BloodPressure             0.088933  0.281805                  0.041265   \n",
       "SkinThickness             0.436783  0.392573                  0.183928   \n",
       "Insulin                   1.000000  0.197859                  0.185071   \n",
       "BMI                       0.197859  1.000000                  0.140647   \n",
       "DiabetesPedigreeFunction  0.185071  0.140647                  1.000000   \n",
       "Age                      -0.042163  0.036242                  0.033561   \n",
       "Outcome                   0.130548  0.292695                  0.173844   \n",
       "\n",
       "                               Age   Outcome  \n",
       "Pregnancies               0.544341  0.221898  \n",
       "Glucose                   0.263514  0.466581  \n",
       "BloodPressure             0.239528  0.065068  \n",
       "SkinThickness            -0.113970  0.074752  \n",
       "Insulin                  -0.042163  0.130548  \n",
       "BMI                       0.036242  0.292695  \n",
       "DiabetesPedigreeFunction  0.033561  0.173844  \n",
       "Age                       1.000000  0.238356  \n",
       "Outcome                   0.238356  1.000000  "
      ]
     },
     "execution_count": 2574,
     "metadata": {},
     "output_type": "execute_result"
    }
   ],
   "source": [
    "data.corr()"
   ]
  },
  {
   "cell_type": "code",
   "execution_count": 2575,
   "metadata": {},
   "outputs": [
    {
     "data": {
      "text/plain": [
       "<AxesSubplot:>"
      ]
     },
     "execution_count": 2575,
     "metadata": {},
     "output_type": "execute_result"
    },
    {
     "data": {
      "image/png": "[encoded data removed]",
      "text/plain": [
       "<Figure size 432x288 with 2 Axes>"
      ]
     },
     "metadata": {
      "needs_background": "light"
     },
     "output_type": "display_data"
    }
   ],
   "source": [
    "sn.heatmap(data.corr(), annot=True, linewidths=.5)"
   ]
  },
  {
   "cell_type": "code",
   "execution_count": 2576,
   "metadata": {},
   "outputs": [
    {
     "data": {
      "text/html": [
       "<div>\n",
       "<style scoped>\n",
       "    .dataframe tbody tr th:only-of-type {\n",
       "        vertical-align: middle;\n",
       "    }\n",
       "\n",
       "    .dataframe tbody tr th {\n",
       "        vertical-align: top;\n",
       "    }\n",
       "\n",
       "    .dataframe thead th {\n",
       "        text-align: right;\n",
       "    }\n",
       "</style>\n",
       "<table border=\"1\" class=\"dataframe\">\n",
       "  <thead>\n",
       "    <tr style=\"text-align: right;\">\n",
       "      <th></th>\n",
       "      <th>Pregnancies</th>\n",
       "      <th>Glucose</th>\n",
       "      <th>BloodPressure</th>\n",
       "      <th>SkinThickness</th>\n",
       "      <th>Insulin</th>\n",
       "      <th>BMI</th>\n",
       "      <th>DiabetesPedigreeFunction</th>\n",
       "      <th>Age</th>\n",
       "      <th>Outcome</th>\n",
       "    </tr>\n",
       "  </thead>\n",
       "  <tbody>\n",
       "    <tr>\n",
       "      <th>0</th>\n",
       "      <td>6</td>\n",
       "      <td>148</td>\n",
       "      <td>72</td>\n",
       "      <td>35</td>\n",
       "      <td>0</td>\n",
       "      <td>33.6</td>\n",
       "      <td>0.627</td>\n",
       "      <td>50</td>\n",
       "      <td>1</td>\n",
       "    </tr>\n",
       "    <tr>\n",
       "      <th>1</th>\n",
       "      <td>1</td>\n",
       "      <td>85</td>\n",
       "      <td>66</td>\n",
       "      <td>29</td>\n",
       "      <td>0</td>\n",
       "      <td>26.6</td>\n",
       "      <td>0.351</td>\n",
       "      <td>31</td>\n",
       "      <td>0</td>\n",
       "    </tr>\n",
       "    <tr>\n",
       "      <th>2</th>\n",
       "      <td>8</td>\n",
       "      <td>183</td>\n",
       "      <td>64</td>\n",
       "      <td>0</td>\n",
       "      <td>0</td>\n",
       "      <td>23.3</td>\n",
       "      <td>0.672</td>\n",
       "      <td>32</td>\n",
       "      <td>1</td>\n",
       "    </tr>\n",
       "    <tr>\n",
       "      <th>3</th>\n",
       "      <td>1</td>\n",
       "      <td>89</td>\n",
       "      <td>66</td>\n",
       "      <td>23</td>\n",
       "      <td>94</td>\n",
       "      <td>28.1</td>\n",
       "      <td>0.167</td>\n",
       "      <td>21</td>\n",
       "      <td>0</td>\n",
       "    </tr>\n",
       "    <tr>\n",
       "      <th>4</th>\n",
       "      <td>0</td>\n",
       "      <td>137</td>\n",
       "      <td>40</td>\n",
       "      <td>35</td>\n",
       "      <td>168</td>\n",
       "      <td>43.1</td>\n",
       "      <td>2.288</td>\n",
       "      <td>33</td>\n",
       "      <td>1</td>\n",
       "    </tr>\n",
       "  </tbody>\n",
       "</table>\n",
       "</div>"
      ],
      "text/plain": [
       "   Pregnancies  Glucose  BloodPressure  SkinThickness  Insulin   BMI  \\\n",
       "0            6      148             72             35        0  33.6   \n",
       "1            1       85             66             29        0  26.6   \n",
       "2            8      183             64              0        0  23.3   \n",
       "3            1       89             66             23       94  28.1   \n",
       "4            0      137             40             35      168  43.1   \n",
       "\n",
       "   DiabetesPedigreeFunction  Age  Outcome  \n",
       "0                     0.627   50        1  \n",
       "1                     0.351   31        0  \n",
       "2                     0.672   32        1  \n",
       "3                     0.167   21        0  \n",
       "4                     2.288   33        1  "
      ]
     },
     "execution_count": 2576,
     "metadata": {},
     "output_type": "execute_result"
    }
   ],
   "source": [
    "data.head()"
   ]
  },
  {
   "cell_type": "code",
   "execution_count": 2577,
   "metadata": {},
   "outputs": [
    {
     "data": {
      "text/html": [
       "<div>\n",
       "<style scoped>\n",
       "    .dataframe tbody tr th:only-of-type {\n",
       "        vertical-align: middle;\n",
       "    }\n",
       "\n",
       "    .dataframe tbody tr th {\n",
       "        vertical-align: top;\n",
       "    }\n",
       "\n",
       "    .dataframe thead th {\n",
       "        text-align: right;\n",
       "    }\n",
       "</style>\n",
       "<table border=\"1\" class=\"dataframe\">\n",
       "  <thead>\n",
       "    <tr style=\"text-align: right;\">\n",
       "      <th></th>\n",
       "      <th>Pregnancies</th>\n",
       "      <th>Glucose</th>\n",
       "      <th>BloodPressure</th>\n",
       "      <th>SkinThickness</th>\n",
       "      <th>Insulin</th>\n",
       "      <th>BMI</th>\n",
       "      <th>DiabetesPedigreeFunction</th>\n",
       "      <th>Age</th>\n",
       "      <th>Outcome</th>\n",
       "    </tr>\n",
       "  </thead>\n",
       "  <tbody>\n",
       "    <tr>\n",
       "      <th>763</th>\n",
       "      <td>10</td>\n",
       "      <td>101</td>\n",
       "      <td>76</td>\n",
       "      <td>48</td>\n",
       "      <td>180</td>\n",
       "      <td>32.9</td>\n",
       "      <td>0.171</td>\n",
       "      <td>63</td>\n",
       "      <td>0</td>\n",
       "    </tr>\n",
       "    <tr>\n",
       "      <th>764</th>\n",
       "      <td>2</td>\n",
       "      <td>122</td>\n",
       "      <td>70</td>\n",
       "      <td>27</td>\n",
       "      <td>0</td>\n",
       "      <td>36.8</td>\n",
       "      <td>0.340</td>\n",
       "      <td>27</td>\n",
       "      <td>0</td>\n",
       "    </tr>\n",
       "    <tr>\n",
       "      <th>765</th>\n",
       "      <td>5</td>\n",
       "      <td>121</td>\n",
       "      <td>72</td>\n",
       "      <td>23</td>\n",
       "      <td>112</td>\n",
       "      <td>26.2</td>\n",
       "      <td>0.245</td>\n",
       "      <td>30</td>\n",
       "      <td>0</td>\n",
       "    </tr>\n",
       "    <tr>\n",
       "      <th>766</th>\n",
       "      <td>1</td>\n",
       "      <td>126</td>\n",
       "      <td>60</td>\n",
       "      <td>0</td>\n",
       "      <td>0</td>\n",
       "      <td>30.1</td>\n",
       "      <td>0.349</td>\n",
       "      <td>47</td>\n",
       "      <td>1</td>\n",
       "    </tr>\n",
       "    <tr>\n",
       "      <th>767</th>\n",
       "      <td>1</td>\n",
       "      <td>93</td>\n",
       "      <td>70</td>\n",
       "      <td>31</td>\n",
       "      <td>0</td>\n",
       "      <td>30.4</td>\n",
       "      <td>0.315</td>\n",
       "      <td>23</td>\n",
       "      <td>0</td>\n",
       "    </tr>\n",
       "  </tbody>\n",
       "</table>\n",
       "</div>"
      ],
      "text/plain": [
       "     Pregnancies  Glucose  BloodPressure  SkinThickness  Insulin   BMI  \\\n",
       "763           10      101             76             48      180  32.9   \n",
       "764            2      122             70             27        0  36.8   \n",
       "765            5      121             72             23      112  26.2   \n",
       "766            1      126             60              0        0  30.1   \n",
       "767            1       93             70             31        0  30.4   \n",
       "\n",
       "     DiabetesPedigreeFunction  Age  Outcome  \n",
       "763                     0.171   63        0  \n",
       "764                     0.340   27        0  \n",
       "765                     0.245   30        0  \n",
       "766                     0.349   47        1  \n",
       "767                     0.315   23        0  "
      ]
     },
     "execution_count": 2577,
     "metadata": {},
     "output_type": "execute_result"
    }
   ],
   "source": [
    "data.tail()"
   ]
  },
  {
   "cell_type": "code",
   "execution_count": 2578,
   "metadata": {},
   "outputs": [
    {
     "data": {
      "text/plain": [
       "Pregnancies                 0\n",
       "Glucose                     0\n",
       "BloodPressure               0\n",
       "SkinThickness               0\n",
       "Insulin                     0\n",
       "BMI                         0\n",
       "DiabetesPedigreeFunction    0\n",
       "Age                         0\n",
       "Outcome                     0\n",
       "dtype: int64"
      ]
     },
     "execution_count": 2578,
     "metadata": {},
     "output_type": "execute_result"
    }
   ],
   "source": [
    "data.isnull().sum()"
   ]
  },
  {
   "cell_type": "code",
   "execution_count": 2579,
   "metadata": {},
   "outputs": [
    {
     "data": {
      "text/plain": [
       "0    500\n",
       "1    268\n",
       "Name: Outcome, dtype: int64"
      ]
     },
     "execution_count": 2579,
     "metadata": {},
     "output_type": "execute_result"
    }
   ],
   "source": [
    "data['Outcome'].value_counts()"
   ]
  },
  {
   "cell_type": "markdown",
   "metadata": {},
   "source": [
    "# Visulization"
   ]
  },
  {
   "cell_type": "code",
   "execution_count": 2580,
   "metadata": {},
   "outputs": [
    {
     "data": {
      "text/plain": [
       "<AxesSubplot:xlabel='Outcome', ylabel='count'>"
      ]
     },
     "execution_count": 2580,
     "metadata": {},
     "output_type": "execute_result"
    },
    {
     "data": {
      "image/png": "[encoded data removed]",
      "text/plain": [
       "<Figure size 432x288 with 1 Axes>"
      ]
     },
     "metadata": {
      "needs_background": "light"
     },
     "output_type": "display_data"
    }
   ],
   "source": [
    "## count plot for target veriable\n",
    "sn.countplot(data['Outcome'], palette=['green', 'red'])"
   ]
  },
  {
   "cell_type": "code",
   "execution_count": 2581,
   "metadata": {},
   "outputs": [
    {
     "data": {
      "text/plain": [
       "[<matplotlib.lines.Line2D at 0x1bbc9d7c5e0>]"
      ]
     },
     "execution_count": 2581,
     "metadata": {},
     "output_type": "execute_result"
    },
    {
     "data": {
      "image/png": "[encoded data removed]",
      "text/plain": [
       "<Figure size 432x288 with 1 Axes>"
      ]
     },
     "metadata": {
      "needs_background": "light"
     },
     "output_type": "display_data"
    }
   ],
   "source": [
    "plt.plot(data['Outcome'].value_counts())"
   ]
  },
  {
   "cell_type": "code",
   "execution_count": 2582,
   "metadata": {},
   "outputs": [
    {
     "data": {
      "text/plain": [
       "<AxesSubplot:xlabel='Outcome', ylabel='Insulin'>"
      ]
     },
     "execution_count": 2582,
     "metadata": {},
     "output_type": "execute_result"
    },
    {
     "data": {
      "image/png": "[encoded data removed]",
      "text/plain": [
       "<Figure size 432x288 with 1 Axes>"
      ]
     },
     "metadata": {
      "needs_background": "light"
     },
     "output_type": "display_data"
    }
   ],
   "source": [
    "sn.barplot( data['Outcome'], data['Insulin'])"
   ]
  },
  {
   "cell_type": "code",
   "execution_count": 2583,
   "metadata": {},
   "outputs": [
    {
     "data": {
      "text/plain": [
       "<AxesSubplot:xlabel='Outcome', ylabel='BMI'>"
      ]
     },
     "execution_count": 2583,
     "metadata": {},
     "output_type": "execute_result"
    },
    {
     "data": {
      "image/png": "[encoded data removed]",
      "text/plain": [
       "<Figure size 432x288 with 1 Axes>"
      ]
     },
     "metadata": {
      "needs_background": "light"
     },
     "output_type": "display_data"
    }
   ],
   "source": [
    "sn.barplot( data['Outcome'], data['BMI'])"
   ]
  },
  {
   "cell_type": "code",
   "execution_count": 2584,
   "metadata": {},
   "outputs": [
    {
     "data": {
      "text/plain": [
       "<AxesSubplot:xlabel='Outcome', ylabel='Glucose'>"
      ]
     },
     "execution_count": 2584,
     "metadata": {},
     "output_type": "execute_result"
    },
    {
     "data": {
      "image/png": "[encoded data removed]",
      "text/plain": [
       "<Figure size 432x288 with 1 Axes>"
      ]
     },
     "metadata": {
      "needs_background": "light"
     },
     "output_type": "display_data"
    }
   ],
   "source": [
    "sn.barplot( data['Outcome'], data['Glucose'])"
   ]
  },
  {
   "cell_type": "code",
   "execution_count": 2585,
   "metadata": {},
   "outputs": [
    {
     "data": {
      "text/plain": [
       "<AxesSubplot:xlabel='Outcome', ylabel='BloodPressure'>"
      ]
     },
     "execution_count": 2585,
     "metadata": {},
     "output_type": "execute_result"
    },
    {
     "data": {
      "image/png": "[encoded data removed]",
      "text/plain": [
       "<Figure size 432x288 with 1 Axes>"
      ]
     },
     "metadata": {
      "needs_background": "light"
     },
     "output_type": "display_data"
    }
   ],
   "source": [
    "sn.barplot( data['Outcome'], data['BloodPressure'])"
   ]
  },
  {
   "cell_type": "code",
   "execution_count": 2586,
   "metadata": {},
   "outputs": [
    {
     "data": {
      "text/plain": [
       "<AxesSubplot:xlabel='Outcome', ylabel='Pregnancies'>"
      ]
     },
     "execution_count": 2586,
     "metadata": {},
     "output_type": "execute_result"
    },
    {
     "data": {
      "image/png": "[encoded data removed]",
      "text/plain": [
       "<Figure size 432x288 with 1 Axes>"
      ]
     },
     "metadata": {
      "needs_background": "light"
     },
     "output_type": "display_data"
    }
   ],
   "source": [
    "sn.barplot( data['Outcome'], data['Pregnancies'])"
   ]
  },
  {
   "cell_type": "code",
   "execution_count": 2587,
   "metadata": {},
   "outputs": [
    {
     "data": {
      "text/plain": [
       "<AxesSubplot:xlabel='Outcome', ylabel='DiabetesPedigreeFunction'>"
      ]
     },
     "execution_count": 2587,
     "metadata": {},
     "output_type": "execute_result"
    },
    {
     "data": {
      "image/png": "[encoded data removed]",
      "text/plain": [
       "<Figure size 432x288 with 1 Axes>"
      ]
     },
     "metadata": {
      "needs_background": "light"
     },
     "output_type": "display_data"
    }
   ],
   "source": [
    "sn.barplot( data['Outcome'], data['DiabetesPedigreeFunction'])"
   ]
  },
  {
   "cell_type": "code",
   "execution_count": 2588,
   "metadata": {},
   "outputs": [
    {
     "data": {
      "image/png": "[encoded data removed]",
      "text/plain": [
       "<Figure size 432x288 with 1 Axes>"
      ]
     },
     "metadata": {},
     "output_type": "display_data"
    }
   ],
   "source": [
    "plt.title('Ratio of Healthy and Diabetic Patients in Dataset')\n",
    "plt.pie(data['Outcome'].value_counts(),autopct='%.2f')\n",
    "plt.legend(['Healthy','Diabetic'],)\n",
    "plt.show()\n"
   ]
  },
  {
   "cell_type": "code",
   "execution_count": 2589,
   "metadata": {},
   "outputs": [],
   "source": [
    "def plot(s):\n",
    "    sn.kdeplot(data.loc[ data.Outcome == 0, s] )\n",
    "    sn.kdeplot(data.loc[ data.Outcome == 1, s] )    \n",
    "    plt.legend(['Healthy','Diabetic'])\n",
    "    plt.ylabel('Number of Patients')\n",
    "    plt.yticks([])\n",
    "    plt.show()"
   ]
  },
  {
   "cell_type": "code",
   "execution_count": 2590,
   "metadata": {},
   "outputs": [
    {
     "data": {
      "image/png": "[encoded data removed]",
      "text/plain": [
       "<Figure size 432x288 with 1 Axes>"
      ]
     },
     "metadata": {
      "needs_background": "light"
     },
     "output_type": "display_data"
    },
    {
     "data": {
      "image/png": "[encoded data removed]",
      "text/plain": [
       "<Figure size 432x288 with 1 Axes>"
      ]
     },
     "metadata": {
      "needs_background": "light"
     },
     "output_type": "display_data"
    },
    {
     "data": {
      "image/png": "[encoded data removed]",
      "text/plain": [
       "<Figure size 432x288 with 1 Axes>"
      ]
     },
     "metadata": {
      "needs_background": "light"
     },
     "output_type": "display_data"
    },
    {
     "data": {
      "image/png": "[encoded data removed]",
      "text/plain": [
       "<Figure size 432x288 with 1 Axes>"
      ]
     },
     "metadata": {
      "needs_background": "light"
     },
     "output_type": "display_data"
    },
    {
     "data": {
      "image/png": "[encoded data removed]",
      "text/plain": [
       "<Figure size 432x288 with 1 Axes>"
      ]
     },
     "metadata": {
      "needs_background": "light"
     },
     "output_type": "display_data"
    },
    {
     "data": {
      "image/png": "[encoded data removed]",
      "text/plain": [
       "<Figure size 432x288 with 1 Axes>"
      ]
     },
     "metadata": {
      "needs_background": "light"
     },
     "output_type": "display_data"
    },
    {
     "data": {
      "image/png": "[encoded data removed]",
      "text/plain": [
       "<Figure size 432x288 with 1 Axes>"
      ]
     },
     "metadata": {
      "needs_background": "light"
     },
     "output_type": "display_data"
    },
    {
     "data": {
      "image/png": "[encoded data removed]",
      "text/plain": [
       "<Figure size 432x288 with 1 Axes>"
      ]
     },
     "metadata": {
      "needs_background": "light"
     },
     "output_type": "display_data"
    }
   ],
   "source": [
    "for i in data.columns[:-1]:\n",
    "    plot(i)"
   ]
  },
  {
   "cell_type": "raw",
   "metadata": {},
   "source": [
    "The kdeplot the relative number of people corresponding to the column.\n",
    "The intersection of the two lines can vaguely estimate the chances of being diabetic.\n",
    "\n",
    "For example, numer of people with glucose level above 125 are more in diabetic category than healthy.\n",
    "However no such conclusive result can be drawn from Skin thickness."
   ]
  },
  {
   "cell_type": "code",
   "execution_count": 2591,
   "metadata": {},
   "outputs": [
    {
     "data": {
      "image/png": "[encoded data removed]",
      "text/plain": [
       "<Figure size 432x288 with 1 Axes>"
      ]
     },
     "metadata": {
      "needs_background": "light"
     },
     "output_type": "display_data"
    }
   ],
   "source": [
    "sn.scatterplot(x='Age', y='Insulin', data=data, hue='Outcome')\n",
    "plt.show()"
   ]
  },
  {
   "cell_type": "code",
   "execution_count": 2592,
   "metadata": {},
   "outputs": [
    {
     "data": {
      "image/png": "[encoded data removed]",
      "text/plain": [
       "<Figure size 413.25x360 with 1 Axes>"
      ]
     },
     "metadata": {
      "needs_background": "light"
     },
     "output_type": "display_data"
    }
   ],
   "source": [
    "sn.relplot(x='Age', y='Insulin', data=data, hue='Outcome', kind='scatter')\n",
    "plt.show()"
   ]
  },
  {
   "cell_type": "code",
   "execution_count": 2593,
   "metadata": {},
   "outputs": [
    {
     "name": "stdout",
     "output_type": "stream",
     "text": [
      "Pregnancies\n",
      "\n",
      "Outcome\n",
      "0    3.298000\n",
      "1    4.865672\n",
      "Name: Pregnancies, dtype: float64\n",
      "\n",
      "Glucose\n",
      "\n",
      "Outcome\n",
      "0    109.980000\n",
      "1    141.257463\n",
      "Name: Glucose, dtype: float64\n",
      "\n",
      "BloodPressure\n",
      "\n",
      "Outcome\n",
      "0    68.184000\n",
      "1    70.824627\n",
      "Name: BloodPressure, dtype: float64\n",
      "\n",
      "SkinThickness\n",
      "\n",
      "Outcome\n",
      "0    19.664000\n",
      "1    22.164179\n",
      "Name: SkinThickness, dtype: float64\n",
      "\n",
      "Insulin\n",
      "\n",
      "Outcome\n",
      "0     68.792000\n",
      "1    100.335821\n",
      "Name: Insulin, dtype: float64\n",
      "\n",
      "BMI\n",
      "\n",
      "Outcome\n",
      "0    30.304200\n",
      "1    35.142537\n",
      "Name: BMI, dtype: float64\n",
      "\n",
      "DiabetesPedigreeFunction\n",
      "\n",
      "Outcome\n",
      "0    0.429734\n",
      "1    0.550500\n",
      "Name: DiabetesPedigreeFunction, dtype: float64\n",
      "\n",
      "Age\n",
      "\n",
      "Outcome\n",
      "0    31.190000\n",
      "1    37.067164\n",
      "Name: Age, dtype: float64\n",
      "\n"
     ]
    }
   ],
   "source": [
    "column_names = data.columns\n",
    "column_names = column_names.drop('Outcome')\n",
    "for name in column_names:\n",
    "    print('{}\\n'.format(name))\n",
    "    print(data.groupby(['Outcome'])[name].mean())\n",
    "    print()"
   ]
  },
  {
   "cell_type": "markdown",
   "metadata": {},
   "source": [
    "In the dataset, people diagnosed with diabetes had higher values for every attribute (mean value)."
   ]
  },
  {
   "cell_type": "markdown",
   "metadata": {},
   "source": [
    "# Data Preprocessing"
   ]
  },
  {
   "cell_type": "code",
   "execution_count": 2594,
   "metadata": {},
   "outputs": [
    {
     "data": {
      "text/plain": [
       "Pregnancies                 0\n",
       "Glucose                     0\n",
       "BloodPressure               0\n",
       "SkinThickness               0\n",
       "Insulin                     0\n",
       "BMI                         0\n",
       "DiabetesPedigreeFunction    0\n",
       "Age                         0\n",
       "Outcome                     0\n",
       "dtype: int64"
      ]
     },
     "execution_count": 2594,
     "metadata": {},
     "output_type": "execute_result"
    }
   ],
   "source": [
    "data.isnull().sum()"
   ]
  },
  {
   "cell_type": "code",
   "execution_count": 2595,
   "metadata": {},
   "outputs": [
    {
     "data": {
      "text/plain": [
       "0        0\n",
       "1        0\n",
       "2        0\n",
       "3       94\n",
       "4      168\n",
       "      ... \n",
       "763    180\n",
       "764      0\n",
       "765    112\n",
       "766      0\n",
       "767      0\n",
       "Name: Insulin, Length: 768, dtype: int64"
      ]
     },
     "execution_count": 2595,
     "metadata": {},
     "output_type": "execute_result"
    }
   ],
   "source": [
    "data['Insulin']"
   ]
  },
  {
   "cell_type": "code",
   "execution_count": 2596,
   "metadata": {},
   "outputs": [
    {
     "data": {
      "text/plain": [
       "<AxesSubplot:xlabel='Age', ylabel='Density'>"
      ]
     },
     "execution_count": 2596,
     "metadata": {},
     "output_type": "execute_result"
    },
    {
     "data": {
      "image/png": "[encoded data removed]",
      "text/plain": [
       "<Figure size 1440x1440 with 8 Axes>"
      ]
     },
     "metadata": {
      "needs_background": "light"
     },
     "output_type": "display_data"
    }
   ],
   "source": [
    "f, axes = plt.subplots(4,2, figsize=(20,20))\n",
    "sn.distplot(data.Pregnancies, ax=axes[0,0])\n",
    "sn.distplot(data.Glucose, ax=axes[0,1])\n",
    "sn.distplot(data.BloodPressure, ax=axes[1,0])\n",
    "sn.distplot(data.SkinThickness, ax=axes[1,1])\n",
    "sn.distplot(data.Insulin, ax=axes[2,0])\n",
    "sn.distplot(data.BMI, ax=axes[2,1])\n",
    "sn.distplot(data.DiabetesPedigreeFunction, ax=axes[3,0])\n",
    "sn.distplot(data.Age, ax=axes[3,1])"
   ]
  },
  {
   "cell_type": "markdown",
   "metadata": {},
   "source": [
    "\n",
    "Although there arent any null value associated with the dataset but Skin Thickness, Insulin, Blood Pressure, Glucose and BMI has some of the data encoded as 0s.\n",
    "\n",
    "0's needs to be replaced.\n",
    "\n",
    "Using the median value associated with that particular column, we will replace the 0's."
   ]
  },
  {
   "cell_type": "code",
   "execution_count": 2597,
   "metadata": {},
   "outputs": [],
   "source": [
    "data.SkinThickness.replace(0, data.SkinThickness.median(), inplace=True)\n",
    "data.Insulin.replace(0, data.Insulin.median(), inplace=True)\n",
    "data.Glucose.replace(0, data.Glucose.median(), inplace=True)\n",
    "data.BloodPressure.replace(0, data.BloodPressure.median(), inplace=True)\n",
    "data.BMI.replace(0, data.BMI.median(), inplace=True)"
   ]
  },
  {
   "cell_type": "code",
   "execution_count": 2598,
   "metadata": {},
   "outputs": [
    {
     "data": {
      "text/plain": [
       "0       30.5\n",
       "1       30.5\n",
       "2       30.5\n",
       "3       94.0\n",
       "4      168.0\n",
       "       ...  \n",
       "763    180.0\n",
       "764     30.5\n",
       "765    112.0\n",
       "766     30.5\n",
       "767     30.5\n",
       "Name: Insulin, Length: 768, dtype: float64"
      ]
     },
     "execution_count": 2598,
     "metadata": {},
     "output_type": "execute_result"
    }
   ],
   "source": [
    "data[\"Insulin\"]"
   ]
  },
  {
   "cell_type": "markdown",
   "metadata": {},
   "source": [
    "Here, 0's are being replaced by the median value which is 30.5"
   ]
  },
  {
   "cell_type": "code",
   "execution_count": 2599,
   "metadata": {},
   "outputs": [
    {
     "data": {
      "text/plain": [
       "<AxesSubplot:xlabel='Age', ylabel='Density'>"
      ]
     },
     "execution_count": 2599,
     "metadata": {},
     "output_type": "execute_result"
    },
    {
     "data": {
      "image/png": "[encoded data removed]",
      "text/plain": [
       "<Figure size 1440x1440 with 8 Axes>"
      ]
     },
     "metadata": {
      "needs_background": "light"
     },
     "output_type": "display_data"
    }
   ],
   "source": [
    "f, axes = plt.subplots(4,2, figsize=(20,20))\n",
    "sn.distplot(data.Pregnancies, ax=axes[0,0])\n",
    "sn.distplot(data.Glucose, ax=axes[0,1])\n",
    "sn.distplot(data.BloodPressure, ax=axes[1,0])\n",
    "sn.distplot(data.SkinThickness, ax=axes[1,1])\n",
    "sn.distplot(data.Insulin, ax=axes[2,0])\n",
    "sn.distplot(data.BMI, ax=axes[2,1])\n",
    "sn.distplot(data.DiabetesPedigreeFunction, ax=axes[3,0])\n",
    "sn.distplot(data.Age, ax=axes[3,1])"
   ]
  },
  {
   "cell_type": "markdown",
   "metadata": {},
   "source": [
    "# Neural Network"
   ]
  },
  {
   "cell_type": "markdown",
   "metadata": {},
   "source": [
    "# Preparation of the data"
   ]
  },
  {
   "cell_type": "code",
   "execution_count": 2600,
   "metadata": {},
   "outputs": [],
   "source": [
    "import tensorflow as tf\n",
    "from tensorflow import keras\n",
    "from tensorflow.keras import layers,callbacks\n",
    "from tensorflow.keras.callbacks import EarlyStopping\n",
    "from sklearn import preprocessing,model_selection"
   ]
  },
  {
   "cell_type": "markdown",
   "metadata": {},
   "source": [
    "Split the data into a training set and test set.\n",
    "And Normalization the data"
   ]
  },
  {
   "cell_type": "code",
   "execution_count": 2601,
   "metadata": {},
   "outputs": [],
   "source": [
    "x = data.drop('Outcome', axis=1)\n",
    "y = data['Outcome']"
   ]
  },
  {
   "cell_type": "code",
   "execution_count": 2602,
   "metadata": {},
   "outputs": [
    {
     "data": {
      "text/html": [
       "<div>\n",
       "<style scoped>\n",
       "    .dataframe tbody tr th:only-of-type {\n",
       "        vertical-align: middle;\n",
       "    }\n",
       "\n",
       "    .dataframe tbody tr th {\n",
       "        vertical-align: top;\n",
       "    }\n",
       "\n",
       "    .dataframe thead th {\n",
       "        text-align: right;\n",
       "    }\n",
       "</style>\n",
       "<table border=\"1\" class=\"dataframe\">\n",
       "  <thead>\n",
       "    <tr style=\"text-align: right;\">\n",
       "      <th></th>\n",
       "      <th>Pregnancies</th>\n",
       "      <th>Glucose</th>\n",
       "      <th>BloodPressure</th>\n",
       "      <th>SkinThickness</th>\n",
       "      <th>Insulin</th>\n",
       "      <th>BMI</th>\n",
       "      <th>DiabetesPedigreeFunction</th>\n",
       "      <th>Age</th>\n",
       "    </tr>\n",
       "  </thead>\n",
       "  <tbody>\n",
       "    <tr>\n",
       "      <th>0</th>\n",
       "      <td>6</td>\n",
       "      <td>148</td>\n",
       "      <td>72</td>\n",
       "      <td>35</td>\n",
       "      <td>30.5</td>\n",
       "      <td>33.6</td>\n",
       "      <td>0.627</td>\n",
       "      <td>50</td>\n",
       "    </tr>\n",
       "    <tr>\n",
       "      <th>1</th>\n",
       "      <td>1</td>\n",
       "      <td>85</td>\n",
       "      <td>66</td>\n",
       "      <td>29</td>\n",
       "      <td>30.5</td>\n",
       "      <td>26.6</td>\n",
       "      <td>0.351</td>\n",
       "      <td>31</td>\n",
       "    </tr>\n",
       "    <tr>\n",
       "      <th>2</th>\n",
       "      <td>8</td>\n",
       "      <td>183</td>\n",
       "      <td>64</td>\n",
       "      <td>23</td>\n",
       "      <td>30.5</td>\n",
       "      <td>23.3</td>\n",
       "      <td>0.672</td>\n",
       "      <td>32</td>\n",
       "    </tr>\n",
       "    <tr>\n",
       "      <th>3</th>\n",
       "      <td>1</td>\n",
       "      <td>89</td>\n",
       "      <td>66</td>\n",
       "      <td>23</td>\n",
       "      <td>94.0</td>\n",
       "      <td>28.1</td>\n",
       "      <td>0.167</td>\n",
       "      <td>21</td>\n",
       "    </tr>\n",
       "    <tr>\n",
       "      <th>4</th>\n",
       "      <td>0</td>\n",
       "      <td>137</td>\n",
       "      <td>40</td>\n",
       "      <td>35</td>\n",
       "      <td>168.0</td>\n",
       "      <td>43.1</td>\n",
       "      <td>2.288</td>\n",
       "      <td>33</td>\n",
       "    </tr>\n",
       "    <tr>\n",
       "      <th>...</th>\n",
       "      <td>...</td>\n",
       "      <td>...</td>\n",
       "      <td>...</td>\n",
       "      <td>...</td>\n",
       "      <td>...</td>\n",
       "      <td>...</td>\n",
       "      <td>...</td>\n",
       "      <td>...</td>\n",
       "    </tr>\n",
       "    <tr>\n",
       "      <th>763</th>\n",
       "      <td>10</td>\n",
       "      <td>101</td>\n",
       "      <td>76</td>\n",
       "      <td>48</td>\n",
       "      <td>180.0</td>\n",
       "      <td>32.9</td>\n",
       "      <td>0.171</td>\n",
       "      <td>63</td>\n",
       "    </tr>\n",
       "    <tr>\n",
       "      <th>764</th>\n",
       "      <td>2</td>\n",
       "      <td>122</td>\n",
       "      <td>70</td>\n",
       "      <td>27</td>\n",
       "      <td>30.5</td>\n",
       "      <td>36.8</td>\n",
       "      <td>0.340</td>\n",
       "      <td>27</td>\n",
       "    </tr>\n",
       "    <tr>\n",
       "      <th>765</th>\n",
       "      <td>5</td>\n",
       "      <td>121</td>\n",
       "      <td>72</td>\n",
       "      <td>23</td>\n",
       "      <td>112.0</td>\n",
       "      <td>26.2</td>\n",
       "      <td>0.245</td>\n",
       "      <td>30</td>\n",
       "    </tr>\n",
       "    <tr>\n",
       "      <th>766</th>\n",
       "      <td>1</td>\n",
       "      <td>126</td>\n",
       "      <td>60</td>\n",
       "      <td>23</td>\n",
       "      <td>30.5</td>\n",
       "      <td>30.1</td>\n",
       "      <td>0.349</td>\n",
       "      <td>47</td>\n",
       "    </tr>\n",
       "    <tr>\n",
       "      <th>767</th>\n",
       "      <td>1</td>\n",
       "      <td>93</td>\n",
       "      <td>70</td>\n",
       "      <td>31</td>\n",
       "      <td>30.5</td>\n",
       "      <td>30.4</td>\n",
       "      <td>0.315</td>\n",
       "      <td>23</td>\n",
       "    </tr>\n",
       "  </tbody>\n",
       "</table>\n",
       "<p>768 rows × 8 columns</p>\n",
       "</div>"
      ],
      "text/plain": [
       "     Pregnancies  Glucose  BloodPressure  SkinThickness  Insulin   BMI  \\\n",
       "0              6      148             72             35     30.5  33.6   \n",
       "1              1       85             66             29     30.5  26.6   \n",
       "2              8      183             64             23     30.5  23.3   \n",
       "3              1       89             66             23     94.0  28.1   \n",
       "4              0      137             40             35    168.0  43.1   \n",
       "..           ...      ...            ...            ...      ...   ...   \n",
       "763           10      101             76             48    180.0  32.9   \n",
       "764            2      122             70             27     30.5  36.8   \n",
       "765            5      121             72             23    112.0  26.2   \n",
       "766            1      126             60             23     30.5  30.1   \n",
       "767            1       93             70             31     30.5  30.4   \n",
       "\n",
       "     DiabetesPedigreeFunction  Age  \n",
       "0                       0.627   50  \n",
       "1                       0.351   31  \n",
       "2                       0.672   32  \n",
       "3                       0.167   21  \n",
       "4                       2.288   33  \n",
       "..                        ...  ...  \n",
       "763                     0.171   63  \n",
       "764                     0.340   27  \n",
       "765                     0.245   30  \n",
       "766                     0.349   47  \n",
       "767                     0.315   23  \n",
       "\n",
       "[768 rows x 8 columns]"
      ]
     },
     "execution_count": 2602,
     "metadata": {},
     "output_type": "execute_result"
    }
   ],
   "source": [
    "x"
   ]
  },
  {
   "cell_type": "code",
   "execution_count": 2603,
   "metadata": {},
   "outputs": [
    {
     "data": {
      "text/plain": [
       "0      1\n",
       "1      0\n",
       "2      1\n",
       "3      0\n",
       "4      1\n",
       "      ..\n",
       "763    0\n",
       "764    0\n",
       "765    0\n",
       "766    1\n",
       "767    0\n",
       "Name: Outcome, Length: 768, dtype: int64"
      ]
     },
     "execution_count": 2603,
     "metadata": {},
     "output_type": "execute_result"
    }
   ],
   "source": [
    "y"
   ]
  },
  {
   "cell_type": "code",
   "execution_count": 2604,
   "metadata": {},
   "outputs": [],
   "source": [
    "from sklearn.model_selection import train_test_split\n",
    "X_train, X_test, y_train, y_test = train_test_split(x, y, test_size=0.3, random_state=2)"
   ]
  },
  {
   "cell_type": "code",
   "execution_count": 2605,
   "metadata": {},
   "outputs": [
    {
     "name": "stdout",
     "output_type": "stream",
     "text": [
      "(537, 8) (537,) (231, 8) (231,)\n"
     ]
    }
   ],
   "source": [
    "print(X_train.shape,y_train.shape,X_test.shape,y_test.shape)"
   ]
  },
  {
   "cell_type": "code",
   "execution_count": 2606,
   "metadata": {},
   "outputs": [],
   "source": [
    "Early_Stopping=callbacks.EarlyStopping(min_delta=0.001,patience=20,restore_best_weights=True,)"
   ]
  },
  {
   "cell_type": "code",
   "execution_count": 2607,
   "metadata": {},
   "outputs": [],
   "source": [
    "model=keras.Sequential([\n",
    "    layers.Dense(14,activation='relu',input_shape=[8]),\n",
    "    layers.Dropout(0.3),\n",
    "    layers.BatchNormalization(),\n",
    "    layers.Dense(8,activation='relu'),\n",
    "    layers.Dense(1),])"
   ]
  },
  {
   "cell_type": "code",
   "execution_count": null,
   "metadata": {},
   "outputs": [],
   "source": []
  },
  {
   "cell_type": "code",
   "execution_count": 2608,
   "metadata": {},
   "outputs": [
    {
     "name": "stdout",
     "output_type": "stream",
     "text": [
      "Model: \"sequential_40\"\n",
      "_________________________________________________________________\n",
      "Layer (type)                 Output Shape              Param #   \n",
      "=================================================================\n",
      "dense_120 (Dense)            (None, 14)                126       \n",
      "_________________________________________________________________\n",
      "dropout_40 (Dropout)         (None, 14)                0         \n",
      "_________________________________________________________________\n",
      "batch_normalization_40 (Batc (None, 14)                56        \n",
      "_________________________________________________________________\n",
      "dense_121 (Dense)            (None, 8)                 120       \n",
      "_________________________________________________________________\n",
      "dense_122 (Dense)            (None, 1)                 9         \n",
      "=================================================================\n",
      "Total params: 311\n",
      "Trainable params: 283\n",
      "Non-trainable params: 28\n",
      "_________________________________________________________________\n"
     ]
    }
   ],
   "source": [
    "model.summary()"
   ]
  },
  {
   "cell_type": "markdown",
   "metadata": {},
   "source": [
    "# Comilping and Fitting the Model"
   ]
  },
  {
   "cell_type": "code",
   "execution_count": 2609,
   "metadata": {},
   "outputs": [],
   "source": [
    "from keras.optimizers import Adam\n",
    "model.compile(loss='binary_crossentropy', optimizer='adam')"
   ]
  },
  {
   "cell_type": "markdown",
   "metadata": {},
   "source": [
    "Defining the callbacks"
   ]
  },
  {
   "cell_type": "code",
   "execution_count": 2610,
   "metadata": {},
   "outputs": [],
   "source": [
    "from keras.callbacks import ReduceLROnPlateau, EarlyStopping\n",
    "reduce_lr = ReduceLROnPlateau()\n",
    "early_stopping = EarlyStopping(patience=20, min_delta=0.0001)"
   ]
  },
  {
   "cell_type": "code",
   "execution_count": 2611,
   "metadata": {},
   "outputs": [],
   "source": [
    "history=model.fit(X_train,y_train,validation_data=(X_test,y_test),batch_size=256,epochs=200,callbacks=[Early_Stopping],verbose=0)"
   ]
  },
  {
   "cell_type": "code",
   "execution_count": 2612,
   "metadata": {},
   "outputs": [],
   "source": [
    "history_df=pd.DataFrame(history.history)"
   ]
  },
  {
   "cell_type": "code",
   "execution_count": 2613,
   "metadata": {},
   "outputs": [
    {
     "name": "stdout",
     "output_type": "stream",
     "text": [
      "<class 'pandas.core.frame.DataFrame'>\n"
     ]
    }
   ],
   "source": [
    "print(type(history_df))"
   ]
  },
  {
   "cell_type": "code",
   "execution_count": 2614,
   "metadata": {},
   "outputs": [
    {
     "data": {
      "text/html": [
       "<div>\n",
       "<style scoped>\n",
       "    .dataframe tbody tr th:only-of-type {\n",
       "        vertical-align: middle;\n",
       "    }\n",
       "\n",
       "    .dataframe tbody tr th {\n",
       "        vertical-align: top;\n",
       "    }\n",
       "\n",
       "    .dataframe thead th {\n",
       "        text-align: right;\n",
       "    }\n",
       "</style>\n",
       "<table border=\"1\" class=\"dataframe\">\n",
       "  <thead>\n",
       "    <tr style=\"text-align: right;\">\n",
       "      <th></th>\n",
       "      <th>loss</th>\n",
       "      <th>val_loss</th>\n",
       "    </tr>\n",
       "  </thead>\n",
       "  <tbody>\n",
       "    <tr>\n",
       "      <th>count</th>\n",
       "      <td>47.000000</td>\n",
       "      <td>47.000000</td>\n",
       "    </tr>\n",
       "    <tr>\n",
       "      <th>mean</th>\n",
       "      <td>2.002026</td>\n",
       "      <td>1.519061</td>\n",
       "    </tr>\n",
       "    <tr>\n",
       "      <th>std</th>\n",
       "      <td>0.545746</td>\n",
       "      <td>1.829681</td>\n",
       "    </tr>\n",
       "    <tr>\n",
       "      <th>min</th>\n",
       "      <td>1.323242</td>\n",
       "      <td>0.828107</td>\n",
       "    </tr>\n",
       "    <tr>\n",
       "      <th>25%</th>\n",
       "      <td>1.577209</td>\n",
       "      <td>0.832567</td>\n",
       "    </tr>\n",
       "    <tr>\n",
       "      <th>50%</th>\n",
       "      <td>1.953879</td>\n",
       "      <td>0.879334</td>\n",
       "    </tr>\n",
       "    <tr>\n",
       "      <th>75%</th>\n",
       "      <td>2.396481</td>\n",
       "      <td>1.003496</td>\n",
       "    </tr>\n",
       "    <tr>\n",
       "      <th>max</th>\n",
       "      <td>3.499551</td>\n",
       "      <td>9.843066</td>\n",
       "    </tr>\n",
       "  </tbody>\n",
       "</table>\n",
       "</div>"
      ],
      "text/plain": [
       "            loss   val_loss\n",
       "count  47.000000  47.000000\n",
       "mean    2.002026   1.519061\n",
       "std     0.545746   1.829681\n",
       "min     1.323242   0.828107\n",
       "25%     1.577209   0.832567\n",
       "50%     1.953879   0.879334\n",
       "75%     2.396481   1.003496\n",
       "max     3.499551   9.843066"
      ]
     },
     "execution_count": 2614,
     "metadata": {},
     "output_type": "execute_result"
    }
   ],
   "source": [
    "history_df.describe()"
   ]
  },
  {
   "cell_type": "code",
   "execution_count": 2615,
   "metadata": {},
   "outputs": [
    {
     "data": {
      "text/plain": [
       "Index(['loss', 'val_loss'], dtype='object')"
      ]
     },
     "execution_count": 2615,
     "metadata": {},
     "output_type": "execute_result"
    }
   ],
   "source": [
    "history_df.columns"
   ]
  },
  {
   "cell_type": "code",
   "execution_count": 2616,
   "metadata": {},
   "outputs": [
    {
     "data": {
      "text/plain": [
       "0     3.499551\n",
       "1     3.250565\n",
       "2     2.894092\n",
       "3     2.743461\n",
       "4     2.827684\n",
       "5     2.840484\n",
       "6     2.703663\n",
       "7     2.548119\n",
       "8     2.553410\n",
       "9     2.634005\n",
       "10    2.392293\n",
       "11    2.451334\n",
       "12    2.224350\n",
       "13    2.400670\n",
       "14    2.068337\n",
       "15    1.997655\n",
       "16    1.983147\n",
       "17    2.043193\n",
       "18    2.037211\n",
       "19    2.073597\n",
       "20    2.135118\n",
       "21    1.897031\n",
       "22    1.696692\n",
       "23    1.973779\n",
       "24    1.595258\n",
       "25    2.085619\n",
       "26    1.734563\n",
       "27    1.953879\n",
       "28    1.651900\n",
       "29    1.701190\n",
       "30    1.738392\n",
       "31    1.627147\n",
       "32    1.565383\n",
       "33    1.640490\n",
       "34    1.640299\n",
       "35    1.520793\n",
       "36    1.457709\n",
       "37    1.478276\n",
       "38    1.335709\n",
       "39    1.431493\n",
       "40    1.373812\n",
       "41    1.589034\n",
       "42    1.368061\n",
       "43    1.498392\n",
       "44    1.389835\n",
       "45    1.323242\n",
       "46    1.525311\n",
       "Name: loss, dtype: float64"
      ]
     },
     "execution_count": 2616,
     "metadata": {},
     "output_type": "execute_result"
    }
   ],
   "source": [
    "history_df['loss']"
   ]
  },
  {
   "cell_type": "code",
   "execution_count": 2617,
   "metadata": {},
   "outputs": [
    {
     "data": {
      "text/plain": [
       "1.3232417106628418"
      ]
     },
     "execution_count": 2617,
     "metadata": {},
     "output_type": "execute_result"
    }
   ],
   "source": [
    "history_df['loss'].min()"
   ]
  },
  {
   "cell_type": "code",
   "execution_count": 2618,
   "metadata": {},
   "outputs": [
    {
     "data": {
      "text/plain": [
       "<AxesSubplot:>"
      ]
     },
     "execution_count": 2618,
     "metadata": {},
     "output_type": "execute_result"
    },
    {
     "data": {
      "image/png": "[encoded data removed]",
      "text/plain": [
       "<Figure size 432x288 with 1 Axes>"
      ]
     },
     "metadata": {
      "needs_background": "light"
     },
     "output_type": "display_data"
    }
   ],
   "source": [
    "history_df.loc[:,'loss'].plot()"
   ]
  },
  {
   "cell_type": "code",
   "execution_count": 2619,
   "metadata": {},
   "outputs": [
    {
     "data": {
      "text/plain": [
       "count    231.000000\n",
       "mean       0.329004\n",
       "std        0.470872\n",
       "min        0.000000\n",
       "25%        0.000000\n",
       "50%        0.000000\n",
       "75%        1.000000\n",
       "max        1.000000\n",
       "Name: Outcome, dtype: float64"
      ]
     },
     "execution_count": 2619,
     "metadata": {},
     "output_type": "execute_result"
    }
   ],
   "source": [
    "y_test.describe()"
   ]
  },
  {
   "cell_type": "code",
   "execution_count": 2620,
   "metadata": {},
   "outputs": [
    {
     "data": {
      "text/plain": [
       "1"
      ]
     },
     "execution_count": 2620,
     "metadata": {},
     "output_type": "execute_result"
    }
   ],
   "source": [
    "y_test.max()"
   ]
  },
  {
   "cell_type": "code",
   "execution_count": 2621,
   "metadata": {},
   "outputs": [
    {
     "name": "stdout",
     "output_type": "stream",
     "text": [
      "<class 'pandas.core.series.Series'>\n"
     ]
    }
   ],
   "source": [
    "print(type(y_test))"
   ]
  },
  {
   "cell_type": "code",
   "execution_count": 2622,
   "metadata": {},
   "outputs": [
    {
     "name": "stdout",
     "output_type": "stream",
     "text": [
      "24/24 [==============================] - 0s 2ms/step - loss: 0.9434\n"
     ]
    }
   ],
   "source": [
    "accuracy=model.evaluate(x,y)"
   ]
  },
  {
   "cell_type": "code",
   "execution_count": 2623,
   "metadata": {},
   "outputs": [
    {
     "name": "stdout",
     "output_type": "stream",
     "text": [
      "94.3443238735199\n"
     ]
    }
   ],
   "source": [
    "print(accuracy*100)"
   ]
  },
  {
   "cell_type": "code",
   "execution_count": 2624,
   "metadata": {},
   "outputs": [
    {
     "data": {
      "text/plain": [
       "158    0\n",
       "251    0\n",
       "631    0\n",
       "757    1\n",
       "689    1\n",
       "      ..\n",
       "225    0\n",
       "387    1\n",
       "120    1\n",
       "7      0\n",
       "729    0\n",
       "Name: Outcome, Length: 231, dtype: int64"
      ]
     },
     "execution_count": 2624,
     "metadata": {},
     "output_type": "execute_result"
    }
   ],
   "source": [
    "y_test"
   ]
  },
  {
   "cell_type": "code",
   "execution_count": 2625,
   "metadata": {},
   "outputs": [
    {
     "data": {
      "text/plain": [
       "501    0\n",
       "371    0\n",
       "634    0\n",
       "221    1\n",
       "12     0\n",
       "      ..\n",
       "534    0\n",
       "584    1\n",
       "493    1\n",
       "527    0\n",
       "168    0\n",
       "Name: Outcome, Length: 537, dtype: int64"
      ]
     },
     "execution_count": 2625,
     "metadata": {},
     "output_type": "execute_result"
    }
   ],
   "source": [
    "y_train"
   ]
  },
  {
   "cell_type": "code",
   "execution_count": 2626,
   "metadata": {},
   "outputs": [
    {
     "data": {
      "text/plain": [
       "0      1\n",
       "1      0\n",
       "2      1\n",
       "3      0\n",
       "4      1\n",
       "      ..\n",
       "763    0\n",
       "764    0\n",
       "765    0\n",
       "766    1\n",
       "767    0\n",
       "Name: Outcome, Length: 768, dtype: int64"
      ]
     },
     "execution_count": 2626,
     "metadata": {},
     "output_type": "execute_result"
    }
   ],
   "source": [
    "y"
   ]
  },
  {
   "cell_type": "code",
   "execution_count": 2627,
   "metadata": {},
   "outputs": [],
   "source": [
    "predictions=model.predict_classes(x)"
   ]
  },
  {
   "cell_type": "code",
   "execution_count": 2628,
   "metadata": {},
   "outputs": [],
   "source": [
    "data['predictions'] = predictions "
   ]
  },
  {
   "cell_type": "code",
   "execution_count": 2629,
   "metadata": {},
   "outputs": [
    {
     "data": {
      "text/plain": [
       "0      1\n",
       "1      0\n",
       "2      1\n",
       "3      0\n",
       "4      1\n",
       "      ..\n",
       "763    0\n",
       "764    0\n",
       "765    0\n",
       "766    1\n",
       "767    0\n",
       "Name: Outcome, Length: 768, dtype: int64"
      ]
     },
     "execution_count": 2629,
     "metadata": {},
     "output_type": "execute_result"
    }
   ],
   "source": [
    "data['Outcome']"
   ]
  },
  {
   "cell_type": "code",
   "execution_count": 2630,
   "metadata": {},
   "outputs": [
    {
     "data": {
      "text/html": [
       "<div>\n",
       "<style scoped>\n",
       "    .dataframe tbody tr th:only-of-type {\n",
       "        vertical-align: middle;\n",
       "    }\n",
       "\n",
       "    .dataframe tbody tr th {\n",
       "        vertical-align: top;\n",
       "    }\n",
       "\n",
       "    .dataframe thead th {\n",
       "        text-align: right;\n",
       "    }\n",
       "</style>\n",
       "<table border=\"1\" class=\"dataframe\">\n",
       "  <thead>\n",
       "    <tr style=\"text-align: right;\">\n",
       "      <th></th>\n",
       "      <th>Pregnancies</th>\n",
       "      <th>Glucose</th>\n",
       "      <th>BloodPressure</th>\n",
       "      <th>SkinThickness</th>\n",
       "      <th>Insulin</th>\n",
       "      <th>BMI</th>\n",
       "      <th>DiabetesPedigreeFunction</th>\n",
       "      <th>Age</th>\n",
       "      <th>Outcome</th>\n",
       "      <th>predictions</th>\n",
       "    </tr>\n",
       "  </thead>\n",
       "  <tbody>\n",
       "    <tr>\n",
       "      <th>0</th>\n",
       "      <td>6</td>\n",
       "      <td>148</td>\n",
       "      <td>72</td>\n",
       "      <td>35</td>\n",
       "      <td>30.5</td>\n",
       "      <td>33.6</td>\n",
       "      <td>0.627</td>\n",
       "      <td>50</td>\n",
       "      <td>1</td>\n",
       "      <td>1</td>\n",
       "    </tr>\n",
       "    <tr>\n",
       "      <th>1</th>\n",
       "      <td>1</td>\n",
       "      <td>85</td>\n",
       "      <td>66</td>\n",
       "      <td>29</td>\n",
       "      <td>30.5</td>\n",
       "      <td>26.6</td>\n",
       "      <td>0.351</td>\n",
       "      <td>31</td>\n",
       "      <td>0</td>\n",
       "      <td>0</td>\n",
       "    </tr>\n",
       "    <tr>\n",
       "      <th>2</th>\n",
       "      <td>8</td>\n",
       "      <td>183</td>\n",
       "      <td>64</td>\n",
       "      <td>23</td>\n",
       "      <td>30.5</td>\n",
       "      <td>23.3</td>\n",
       "      <td>0.672</td>\n",
       "      <td>32</td>\n",
       "      <td>1</td>\n",
       "      <td>1</td>\n",
       "    </tr>\n",
       "    <tr>\n",
       "      <th>3</th>\n",
       "      <td>1</td>\n",
       "      <td>89</td>\n",
       "      <td>66</td>\n",
       "      <td>23</td>\n",
       "      <td>94.0</td>\n",
       "      <td>28.1</td>\n",
       "      <td>0.167</td>\n",
       "      <td>21</td>\n",
       "      <td>0</td>\n",
       "      <td>0</td>\n",
       "    </tr>\n",
       "    <tr>\n",
       "      <th>4</th>\n",
       "      <td>0</td>\n",
       "      <td>137</td>\n",
       "      <td>40</td>\n",
       "      <td>35</td>\n",
       "      <td>168.0</td>\n",
       "      <td>43.1</td>\n",
       "      <td>2.288</td>\n",
       "      <td>33</td>\n",
       "      <td>1</td>\n",
       "      <td>0</td>\n",
       "    </tr>\n",
       "    <tr>\n",
       "      <th>...</th>\n",
       "      <td>...</td>\n",
       "      <td>...</td>\n",
       "      <td>...</td>\n",
       "      <td>...</td>\n",
       "      <td>...</td>\n",
       "      <td>...</td>\n",
       "      <td>...</td>\n",
       "      <td>...</td>\n",
       "      <td>...</td>\n",
       "      <td>...</td>\n",
       "    </tr>\n",
       "    <tr>\n",
       "      <th>763</th>\n",
       "      <td>10</td>\n",
       "      <td>101</td>\n",
       "      <td>76</td>\n",
       "      <td>48</td>\n",
       "      <td>180.0</td>\n",
       "      <td>32.9</td>\n",
       "      <td>0.171</td>\n",
       "      <td>63</td>\n",
       "      <td>0</td>\n",
       "      <td>0</td>\n",
       "    </tr>\n",
       "    <tr>\n",
       "      <th>764</th>\n",
       "      <td>2</td>\n",
       "      <td>122</td>\n",
       "      <td>70</td>\n",
       "      <td>27</td>\n",
       "      <td>30.5</td>\n",
       "      <td>36.8</td>\n",
       "      <td>0.340</td>\n",
       "      <td>27</td>\n",
       "      <td>0</td>\n",
       "      <td>0</td>\n",
       "    </tr>\n",
       "    <tr>\n",
       "      <th>765</th>\n",
       "      <td>5</td>\n",
       "      <td>121</td>\n",
       "      <td>72</td>\n",
       "      <td>23</td>\n",
       "      <td>112.0</td>\n",
       "      <td>26.2</td>\n",
       "      <td>0.245</td>\n",
       "      <td>30</td>\n",
       "      <td>0</td>\n",
       "      <td>1</td>\n",
       "    </tr>\n",
       "    <tr>\n",
       "      <th>766</th>\n",
       "      <td>1</td>\n",
       "      <td>126</td>\n",
       "      <td>60</td>\n",
       "      <td>23</td>\n",
       "      <td>30.5</td>\n",
       "      <td>30.1</td>\n",
       "      <td>0.349</td>\n",
       "      <td>47</td>\n",
       "      <td>1</td>\n",
       "      <td>1</td>\n",
       "    </tr>\n",
       "    <tr>\n",
       "      <th>767</th>\n",
       "      <td>1</td>\n",
       "      <td>93</td>\n",
       "      <td>70</td>\n",
       "      <td>31</td>\n",
       "      <td>30.5</td>\n",
       "      <td>30.4</td>\n",
       "      <td>0.315</td>\n",
       "      <td>23</td>\n",
       "      <td>0</td>\n",
       "      <td>0</td>\n",
       "    </tr>\n",
       "  </tbody>\n",
       "</table>\n",
       "<p>768 rows × 10 columns</p>\n",
       "</div>"
      ],
      "text/plain": [
       "     Pregnancies  Glucose  BloodPressure  SkinThickness  Insulin   BMI  \\\n",
       "0              6      148             72             35     30.5  33.6   \n",
       "1              1       85             66             29     30.5  26.6   \n",
       "2              8      183             64             23     30.5  23.3   \n",
       "3              1       89             66             23     94.0  28.1   \n",
       "4              0      137             40             35    168.0  43.1   \n",
       "..           ...      ...            ...            ...      ...   ...   \n",
       "763           10      101             76             48    180.0  32.9   \n",
       "764            2      122             70             27     30.5  36.8   \n",
       "765            5      121             72             23    112.0  26.2   \n",
       "766            1      126             60             23     30.5  30.1   \n",
       "767            1       93             70             31     30.5  30.4   \n",
       "\n",
       "     DiabetesPedigreeFunction  Age  Outcome  predictions  \n",
       "0                       0.627   50        1            1  \n",
       "1                       0.351   31        0            0  \n",
       "2                       0.672   32        1            1  \n",
       "3                       0.167   21        0            0  \n",
       "4                       2.288   33        1            0  \n",
       "..                        ...  ...      ...          ...  \n",
       "763                     0.171   63        0            0  \n",
       "764                     0.340   27        0            0  \n",
       "765                     0.245   30        0            1  \n",
       "766                     0.349   47        1            1  \n",
       "767                     0.315   23        0            0  \n",
       "\n",
       "[768 rows x 10 columns]"
      ]
     },
     "execution_count": 2630,
     "metadata": {},
     "output_type": "execute_result"
    }
   ],
   "source": [
    "data"
   ]
  },
  {
   "cell_type": "code",
   "execution_count": 2631,
   "metadata": {},
   "outputs": [
    {
     "data": {
      "text/html": [
       "<div>\n",
       "<style scoped>\n",
       "    .dataframe tbody tr th:only-of-type {\n",
       "        vertical-align: middle;\n",
       "    }\n",
       "\n",
       "    .dataframe tbody tr th {\n",
       "        vertical-align: top;\n",
       "    }\n",
       "\n",
       "    .dataframe thead th {\n",
       "        text-align: right;\n",
       "    }\n",
       "</style>\n",
       "<table border=\"1\" class=\"dataframe\">\n",
       "  <thead>\n",
       "    <tr style=\"text-align: right;\">\n",
       "      <th></th>\n",
       "      <th>Pregnancies</th>\n",
       "      <th>Glucose</th>\n",
       "      <th>BloodPressure</th>\n",
       "      <th>SkinThickness</th>\n",
       "      <th>Insulin</th>\n",
       "      <th>BMI</th>\n",
       "      <th>DiabetesPedigreeFunction</th>\n",
       "      <th>Age</th>\n",
       "      <th>Outcome</th>\n",
       "      <th>predictions</th>\n",
       "    </tr>\n",
       "  </thead>\n",
       "  <tbody>\n",
       "    <tr>\n",
       "      <th>763</th>\n",
       "      <td>10</td>\n",
       "      <td>101</td>\n",
       "      <td>76</td>\n",
       "      <td>48</td>\n",
       "      <td>180.0</td>\n",
       "      <td>32.9</td>\n",
       "      <td>0.171</td>\n",
       "      <td>63</td>\n",
       "      <td>0</td>\n",
       "      <td>0</td>\n",
       "    </tr>\n",
       "    <tr>\n",
       "      <th>764</th>\n",
       "      <td>2</td>\n",
       "      <td>122</td>\n",
       "      <td>70</td>\n",
       "      <td>27</td>\n",
       "      <td>30.5</td>\n",
       "      <td>36.8</td>\n",
       "      <td>0.340</td>\n",
       "      <td>27</td>\n",
       "      <td>0</td>\n",
       "      <td>0</td>\n",
       "    </tr>\n",
       "    <tr>\n",
       "      <th>765</th>\n",
       "      <td>5</td>\n",
       "      <td>121</td>\n",
       "      <td>72</td>\n",
       "      <td>23</td>\n",
       "      <td>112.0</td>\n",
       "      <td>26.2</td>\n",
       "      <td>0.245</td>\n",
       "      <td>30</td>\n",
       "      <td>0</td>\n",
       "      <td>1</td>\n",
       "    </tr>\n",
       "    <tr>\n",
       "      <th>766</th>\n",
       "      <td>1</td>\n",
       "      <td>126</td>\n",
       "      <td>60</td>\n",
       "      <td>23</td>\n",
       "      <td>30.5</td>\n",
       "      <td>30.1</td>\n",
       "      <td>0.349</td>\n",
       "      <td>47</td>\n",
       "      <td>1</td>\n",
       "      <td>1</td>\n",
       "    </tr>\n",
       "    <tr>\n",
       "      <th>767</th>\n",
       "      <td>1</td>\n",
       "      <td>93</td>\n",
       "      <td>70</td>\n",
       "      <td>31</td>\n",
       "      <td>30.5</td>\n",
       "      <td>30.4</td>\n",
       "      <td>0.315</td>\n",
       "      <td>23</td>\n",
       "      <td>0</td>\n",
       "      <td>0</td>\n",
       "    </tr>\n",
       "  </tbody>\n",
       "</table>\n",
       "</div>"
      ],
      "text/plain": [
       "     Pregnancies  Glucose  BloodPressure  SkinThickness  Insulin   BMI  \\\n",
       "763           10      101             76             48    180.0  32.9   \n",
       "764            2      122             70             27     30.5  36.8   \n",
       "765            5      121             72             23    112.0  26.2   \n",
       "766            1      126             60             23     30.5  30.1   \n",
       "767            1       93             70             31     30.5  30.4   \n",
       "\n",
       "     DiabetesPedigreeFunction  Age  Outcome  predictions  \n",
       "763                     0.171   63        0            0  \n",
       "764                     0.340   27        0            0  \n",
       "765                     0.245   30        0            1  \n",
       "766                     0.349   47        1            1  \n",
       "767                     0.315   23        0            0  "
      ]
     },
     "execution_count": 2631,
     "metadata": {},
     "output_type": "execute_result"
    }
   ],
   "source": [
    "data.tail()"
   ]
  },
  {
   "cell_type": "code",
   "execution_count": 2632,
   "metadata": {},
   "outputs": [],
   "source": [
    "predictions_list = data['predictions'].tolist()"
   ]
  },
  {
   "cell_type": "code",
   "execution_count": 2633,
   "metadata": {},
   "outputs": [],
   "source": [
    "Outcome_list = data['Outcome'].tolist()"
   ]
  },
  {
   "cell_type": "code",
   "execution_count": 2634,
   "metadata": {},
   "outputs": [
    {
     "name": "stdout",
     "output_type": "stream",
     "text": [
      "     Outcome  predictions\n",
      "0          1            1\n",
      "1          0            0\n",
      "2          1            1\n",
      "3          0            0\n",
      "4          1            0\n",
      "..       ...          ...\n",
      "763        0            0\n",
      "764        0            0\n",
      "765        0            1\n",
      "766        1            1\n",
      "767        0            0\n",
      "\n",
      "[768 rows x 2 columns]\n"
     ]
    }
   ],
   "source": [
    "print(data[['Outcome', 'predictions']])"
   ]
  },
  {
   "cell_type": "code",
   "execution_count": 2635,
   "metadata": {},
   "outputs": [
    {
     "name": "stdout",
     "output_type": "stream",
     "text": [
      "1\t\t1\n",
      "0\t\t0\n",
      "1\t\t1\n",
      "0\t\t0\n",
      "0\t\t1\n",
      "0\t\t0\n",
      "0\t\t1\n",
      "0\t\t0\n",
      "0\t\t1\n",
      "0\t\t1\n",
      "0\t\t0\n",
      "1\t\t1\n",
      "0\t\t0\n",
      "0\t\t1\n",
      "1\t\t1\n",
      "0\t\t1\n",
      "0\t\t1\n",
      "0\t\t1\n",
      "0\t\t0\n",
      "1\t\t1\n",
      "0\t\t0\n",
      "0\t\t0\n",
      "1\t\t1\n",
      "0\t\t1\n",
      "1\t\t1\n",
      "1\t\t1\n",
      "1\t\t1\n",
      "0\t\t0\n",
      "1\t\t0\n",
      "0\t\t0\n",
      "0\t\t0\n",
      "0\t\t1\n",
      "0\t\t0\n",
      "0\t\t0\n",
      "0\t\t0\n",
      "0\t\t0\n",
      "0\t\t0\n",
      "0\t\t1\n",
      "0\t\t1\n",
      "0\t\t1\n",
      "1\t\t0\n",
      "0\t\t0\n",
      "0\t\t0\n",
      "1\t\t1\n",
      "1\t\t0\n",
      "1\t\t1\n",
      "1\t\t0\n",
      "0\t\t0\n",
      "0\t\t1\n",
      "0\t\t0\n",
      "0\t\t0\n",
      "0\t\t0\n",
      "0\t\t0\n",
      "0\t\t1\n",
      "0\t\t0\n",
      "0\t\t0\n",
      "0\t\t1\n",
      "0\t\t0\n",
      "1\t\t0\n",
      "0\t\t0\n",
      "0\t\t0\n",
      "0\t\t1\n",
      "0\t\t0\n",
      "1\t\t0\n",
      "0\t\t1\n",
      "0\t\t0\n",
      "0\t\t1\n",
      "0\t\t0\n",
      "0\t\t0\n",
      "1\t\t0\n",
      "0\t\t1\n",
      "1\t\t0\n",
      "0\t\t1\n",
      "0\t\t0\n",
      "0\t\t0\n",
      "0\t\t0\n",
      "0\t\t0\n",
      "0\t\t0\n",
      "0\t\t1\n",
      "0\t\t0\n",
      "0\t\t0\n",
      "0\t\t0\n",
      "0\t\t0\n",
      "0\t\t0\n",
      "0\t\t1\n",
      "0\t\t0\n",
      "0\t\t0\n",
      "0\t\t0\n",
      "1\t\t1\n",
      "0\t\t0\n",
      "0\t\t0\n",
      "0\t\t0\n",
      "0\t\t0\n",
      "1\t\t1\n",
      "1\t\t0\n",
      "0\t\t0\n",
      "0\t\t0\n",
      "0\t\t0\n",
      "0\t\t0\n",
      "0\t\t1\n",
      "1\t\t1\n",
      "1\t\t0\n",
      "0\t\t0\n",
      "0\t\t0\n",
      "0\t\t0\n",
      "1\t\t0\n",
      "0\t\t0\n",
      "1\t\t0\n",
      "0\t\t0\n",
      "0\t\t1\n",
      "1\t\t1\n",
      "0\t\t1\n",
      "0\t\t0\n",
      "0\t\t0\n",
      "1\t\t1\n",
      "1\t\t1\n",
      "0\t\t1\n",
      "0\t\t0\n",
      "0\t\t0\n",
      "0\t\t0\n",
      "1\t\t1\n",
      "0\t\t0\n",
      "0\t\t0\n",
      "0\t\t0\n",
      "0\t\t1\n",
      "0\t\t1\n",
      "1\t\t0\n",
      "0\t\t0\n",
      "0\t\t1\n",
      "0\t\t1\n",
      "1\t\t1\n",
      "0\t\t1\n",
      "1\t\t1\n",
      "0\t\t0\n",
      "0\t\t0\n",
      "1\t\t0\n",
      "0\t\t0\n",
      "0\t\t0\n",
      "0\t\t0\n",
      "0\t\t0\n",
      "0\t\t0\n",
      "0\t\t0\n",
      "0\t\t0\n",
      "0\t\t1\n",
      "0\t\t0\n",
      "0\t\t0\n",
      "0\t\t0\n",
      "0\t\t0\n",
      "1\t\t0\n",
      "0\t\t0\n",
      "1\t\t0\n",
      "0\t\t0\n",
      "1\t\t1\n",
      "0\t\t0\n",
      "1\t\t1\n",
      "1\t\t1\n",
      "0\t\t0\n",
      "0\t\t0\n",
      "0\t\t0\n",
      "1\t\t1\n",
      "1\t\t0\n",
      "0\t\t0\n",
      "0\t\t0\n",
      "0\t\t0\n",
      "0\t\t1\n",
      "0\t\t1\n",
      "1\t\t0\n",
      "0\t\t0\n",
      "0\t\t0\n",
      "0\t\t0\n",
      "0\t\t1\n",
      "1\t\t1\n",
      "0\t\t0\n",
      "0\t\t0\n",
      "0\t\t0\n",
      "1\t\t1\n",
      "0\t\t0\n",
      "1\t\t1\n",
      "1\t\t0\n",
      "0\t\t1\n",
      "0\t\t0\n",
      "1\t\t0\n",
      "0\t\t0\n",
      "0\t\t0\n",
      "1\t\t0\n",
      "1\t\t1\n",
      "0\t\t1\n",
      "0\t\t1\n",
      "0\t\t1\n",
      "1\t\t1\n",
      "0\t\t0\n",
      "1\t\t0\n",
      "1\t\t1\n",
      "0\t\t1\n",
      "0\t\t0\n",
      "1\t\t1\n",
      "0\t\t0\n",
      "0\t\t1\n",
      "0\t\t1\n",
      "0\t\t1\n",
      "0\t\t0\n",
      "0\t\t0\n",
      "0\t\t0\n",
      "0\t\t0\n",
      "0\t\t0\n",
      "0\t\t0\n",
      "1\t\t1\n",
      "1\t\t1\n",
      "0\t\t0\n",
      "1\t\t1\n",
      "0\t\t0\n",
      "1\t\t0\n",
      "1\t\t0\n",
      "1\t\t1\n",
      "0\t\t1\n",
      "0\t\t1\n",
      "0\t\t1\n",
      "1\t\t0\n",
      "0\t\t1\n",
      "0\t\t1\n",
      "0\t\t1\n",
      "1\t\t1\n",
      "0\t\t0\n",
      "1\t\t0\n",
      "0\t\t0\n",
      "0\t\t0\n",
      "0\t\t0\n",
      "1\t\t1\n",
      "0\t\t0\n",
      "0\t\t0\n",
      "0\t\t1\n",
      "0\t\t1\n",
      "0\t\t0\n",
      "0\t\t0\n",
      "0\t\t0\n",
      "1\t\t1\n",
      "1\t\t1\n",
      "1\t\t1\n",
      "1\t\t1\n",
      "0\t\t0\n",
      "0\t\t0\n",
      "0\t\t0\n",
      "1\t\t1\n",
      "0\t\t1\n",
      "1\t\t0\n",
      "1\t\t1\n",
      "0\t\t0\n",
      "0\t\t0\n",
      "0\t\t0\n",
      "0\t\t0\n",
      "0\t\t0\n",
      "0\t\t0\n",
      "0\t\t0\n",
      "0\t\t0\n",
      "0\t\t1\n",
      "0\t\t1\n",
      "0\t\t0\n",
      "0\t\t0\n",
      "0\t\t0\n",
      "1\t\t1\n",
      "1\t\t0\n",
      "1\t\t1\n",
      "0\t\t0\n",
      "1\t\t0\n",
      "0\t\t1\n",
      "0\t\t0\n",
      "1\t\t1\n",
      "1\t\t0\n",
      "0\t\t0\n",
      "1\t\t1\n",
      "0\t\t1\n",
      "0\t\t0\n",
      "0\t\t0\n",
      "0\t\t0\n",
      "0\t\t0\n",
      "0\t\t0\n",
      "0\t\t1\n",
      "0\t\t0\n",
      "0\t\t0\n",
      "0\t\t0\n",
      "1\t\t1\n",
      "1\t\t0\n",
      "1\t\t0\n",
      "1\t\t1\n",
      "0\t\t1\n",
      "1\t\t0\n",
      "0\t\t0\n",
      "0\t\t1\n",
      "0\t\t0\n",
      "0\t\t0\n",
      "0\t\t0\n",
      "0\t\t1\n",
      "1\t\t1\n",
      "0\t\t1\n",
      "1\t\t0\n",
      "1\t\t0\n",
      "0\t\t1\n",
      "0\t\t0\n",
      "0\t\t1\n",
      "0\t\t0\n",
      "1\t\t1\n",
      "1\t\t1\n",
      "0\t\t0\n",
      "0\t\t1\n",
      "1\t\t0\n",
      "1\t\t0\n",
      "1\t\t1\n",
      "1\t\t0\n",
      "1\t\t1\n",
      "0\t\t1\n",
      "0\t\t0\n",
      "1\t\t0\n",
      "1\t\t1\n",
      "0\t\t0\n",
      "0\t\t1\n",
      "0\t\t0\n",
      "0\t\t0\n",
      "1\t\t1\n",
      "1\t\t0\n",
      "1\t\t1\n",
      "0\t\t0\n",
      "0\t\t1\n",
      "0\t\t1\n",
      "1\t\t1\n",
      "0\t\t0\n",
      "1\t\t0\n",
      "1\t\t1\n",
      "1\t\t0\n",
      "0\t\t1\n",
      "0\t\t0\n",
      "0\t\t0\n",
      "0\t\t0\n",
      "1\t\t1\n",
      "0\t\t0\n",
      "0\t\t0\n",
      "1\t\t0\n",
      "0\t\t0\n",
      "0\t\t1\n",
      "1\t\t1\n",
      "1\t\t1\n",
      "1\t\t0\n",
      "0\t\t0\n",
      "0\t\t0\n",
      "0\t\t0\n",
      "0\t\t0\n",
      "1\t\t0\n",
      "0\t\t0\n",
      "0\t\t0\n",
      "0\t\t0\n",
      "0\t\t1\n",
      "0\t\t0\n",
      "0\t\t0\n",
      "1\t\t0\n",
      "0\t\t0\n",
      "0\t\t0\n",
      "1\t\t1\n",
      "0\t\t1\n",
      "0\t\t1\n",
      "0\t\t0\n",
      "1\t\t1\n",
      "0\t\t1\n",
      "1\t\t0\n",
      "0\t\t0\n",
      "1\t\t1\n",
      "0\t\t0\n",
      "0\t\t0\n",
      "0\t\t1\n",
      "0\t\t0\n",
      "0\t\t0\n",
      "1\t\t1\n",
      "0\t\t1\n",
      "1\t\t0\n",
      "0\t\t0\n",
      "0\t\t0\n",
      "0\t\t0\n",
      "0\t\t1\n",
      "0\t\t0\n",
      "0\t\t0\n",
      "1\t\t1\n",
      "0\t\t0\n",
      "0\t\t0\n",
      "0\t\t0\n",
      "0\t\t0\n",
      "0\t\t0\n",
      "1\t\t0\n",
      "0\t\t0\n",
      "0\t\t1\n",
      "0\t\t1\n",
      "0\t\t1\n",
      "0\t\t0\n",
      "0\t\t0\n",
      "1\t\t1\n",
      "0\t\t0\n",
      "0\t\t0\n",
      "1\t\t1\n",
      "0\t\t0\n",
      "0\t\t0\n",
      "1\t\t1\n",
      "0\t\t0\n",
      "1\t\t1\n",
      "0\t\t1\n",
      "1\t\t0\n",
      "1\t\t1\n",
      "0\t\t0\n",
      "1\t\t1\n",
      "0\t\t0\n",
      "0\t\t1\n",
      "0\t\t0\n",
      "1\t\t1\n",
      "0\t\t1\n",
      "0\t\t0\n",
      "0\t\t0\n",
      "0\t\t0\n",
      "1\t\t0\n",
      "1\t\t1\n",
      "0\t\t1\n",
      "0\t\t0\n",
      "1\t\t1\n",
      "0\t\t0\n",
      "0\t\t1\n",
      "1\t\t0\n",
      "0\t\t0\n",
      "0\t\t0\n",
      "0\t\t0\n",
      "1\t\t1\n",
      "1\t\t1\n",
      "0\t\t0\n",
      "1\t\t1\n",
      "1\t\t0\n",
      "0\t\t1\n",
      "0\t\t0\n",
      "0\t\t0\n",
      "0\t\t0\n",
      "1\t\t0\n",
      "0\t\t0\n",
      "1\t\t1\n",
      "0\t\t0\n",
      "1\t\t0\n",
      "0\t\t0\n",
      "0\t\t0\n",
      "1\t\t1\n",
      "0\t\t0\n",
      "1\t\t0\n",
      "0\t\t1\n",
      "0\t\t1\n",
      "1\t\t1\n",
      "0\t\t0\n",
      "0\t\t0\n",
      "0\t\t1\n",
      "0\t\t0\n",
      "0\t\t0\n",
      "0\t\t1\n",
      "0\t\t0\n",
      "0\t\t0\n",
      "0\t\t0\n",
      "1\t\t1\n",
      "1\t\t0\n",
      "0\t\t0\n",
      "1\t\t1\n",
      "1\t\t0\n",
      "0\t\t0\n",
      "0\t\t0\n",
      "0\t\t0\n",
      "0\t\t0\n",
      "0\t\t0\n",
      "0\t\t0\n",
      "0\t\t0\n",
      "0\t\t0\n",
      "0\t\t1\n",
      "1\t\t0\n",
      "1\t\t0\n",
      "1\t\t0\n",
      "0\t\t0\n",
      "0\t\t0\n",
      "0\t\t0\n",
      "1\t\t0\n",
      "0\t\t1\n",
      "0\t\t0\n",
      "1\t\t0\n",
      "0\t\t0\n",
      "0\t\t1\n",
      "0\t\t0\n",
      "0\t\t0\n",
      "0\t\t0\n",
      "1\t\t1\n",
      "0\t\t1\n",
      "0\t\t0\n",
      "1\t\t0\n",
      "0\t\t0\n",
      "1\t\t0\n",
      "0\t\t0\n",
      "0\t\t0\n",
      "0\t\t0\n",
      "1\t\t1\n",
      "0\t\t0\n",
      "1\t\t0\n",
      "0\t\t0\n",
      "0\t\t0\n",
      "1\t\t1\n",
      "1\t\t0\n",
      "0\t\t0\n",
      "0\t\t0\n",
      "0\t\t1\n",
      "0\t\t0\n",
      "0\t\t0\n",
      "0\t\t0\n",
      "1\t\t1\n",
      "1\t\t0\n",
      "0\t\t0\n",
      "0\t\t0\n",
      "0\t\t1\n",
      "0\t\t0\n",
      "0\t\t0\n",
      "0\t\t0\n",
      "0\t\t0\n",
      "1\t\t1\n",
      "1\t\t1\n",
      "0\t\t0\n",
      "0\t\t0\n",
      "0\t\t0\n",
      "0\t\t0\n",
      "1\t\t0\n",
      "0\t\t0\n",
      "0\t\t1\n",
      "0\t\t0\n",
      "0\t\t0\n",
      "0\t\t0\n",
      "0\t\t0\n",
      "0\t\t0\n",
      "0\t\t0\n",
      "0\t\t0\n",
      "0\t\t0\n",
      "0\t\t0\n",
      "0\t\t0\n",
      "0\t\t0\n",
      "0\t\t1\n",
      "0\t\t0\n",
      "1\t\t0\n",
      "0\t\t0\n",
      "1\t\t1\n",
      "0\t\t1\n",
      "1\t\t1\n",
      "0\t\t1\n",
      "0\t\t0\n",
      "0\t\t0\n",
      "1\t\t1\n",
      "1\t\t1\n",
      "1\t\t0\n",
      "1\t\t0\n",
      "1\t\t0\n",
      "0\t\t0\n",
      "0\t\t0\n",
      "0\t\t0\n",
      "0\t\t0\n",
      "0\t\t0\n",
      "0\t\t0\n",
      "0\t\t0\n",
      "0\t\t0\n",
      "0\t\t0\n",
      "0\t\t0\n",
      "0\t\t1\n",
      "1\t\t1\n",
      "0\t\t0\n",
      "0\t\t0\n",
      "0\t\t0\n",
      "0\t\t0\n",
      "0\t\t0\n",
      "0\t\t0\n",
      "1\t\t0\n",
      "1\t\t1\n",
      "0\t\t0\n",
      "0\t\t0\n",
      "0\t\t0\n",
      "0\t\t0\n",
      "0\t\t0\n",
      "0\t\t0\n",
      "0\t\t0\n",
      "0\t\t1\n",
      "0\t\t0\n",
      "1\t\t1\n",
      "1\t\t1\n",
      "0\t\t0\n",
      "0\t\t0\n",
      "0\t\t0\n",
      "0\t\t1\n",
      "0\t\t0\n",
      "1\t\t1\n",
      "0\t\t0\n",
      "1\t\t1\n",
      "0\t\t0\n",
      "0\t\t1\n",
      "1\t\t0\n",
      "0\t\t1\n",
      "0\t\t0\n",
      "0\t\t0\n",
      "1\t\t1\n",
      "1\t\t0\n",
      "0\t\t0\n",
      "1\t\t1\n",
      "0\t\t0\n",
      "0\t\t0\n",
      "0\t\t0\n",
      "0\t\t0\n",
      "1\t\t1\n",
      "1\t\t1\n",
      "0\t\t0\n",
      "0\t\t1\n",
      "0\t\t0\n",
      "0\t\t0\n",
      "0\t\t0\n",
      "0\t\t0\n",
      "1\t\t1\n",
      "0\t\t1\n",
      "0\t\t0\n",
      "1\t\t1\n",
      "0\t\t0\n",
      "0\t\t0\n",
      "0\t\t0\n",
      "0\t\t1\n",
      "0\t\t1\n",
      "1\t\t0\n",
      "0\t\t0\n",
      "1\t\t0\n",
      "0\t\t0\n",
      "0\t\t0\n",
      "0\t\t0\n",
      "0\t\t0\n",
      "0\t\t0\n",
      "0\t\t0\n",
      "0\t\t0\n",
      "0\t\t1\n",
      "0\t\t0\n",
      "0\t\t0\n",
      "0\t\t0\n",
      "0\t\t0\n",
      "0\t\t1\n",
      "0\t\t0\n",
      "0\t\t0\n",
      "0\t\t1\n",
      "0\t\t0\n",
      "0\t\t0\n",
      "0\t\t0\n",
      "1\t\t1\n",
      "0\t\t0\n",
      "0\t\t0\n",
      "0\t\t0\n",
      "1\t\t1\n",
      "1\t\t1\n",
      "1\t\t1\n",
      "0\t\t0\n",
      "0\t\t0\n",
      "0\t\t0\n",
      "1\t\t0\n",
      "0\t\t0\n",
      "0\t\t0\n",
      "0\t\t1\n",
      "0\t\t0\n",
      "1\t\t0\n",
      "0\t\t0\n",
      "0\t\t1\n",
      "1\t\t0\n",
      "1\t\t1\n",
      "1\t\t1\n",
      "1\t\t1\n",
      "0\t\t1\n",
      "1\t\t0\n",
      "1\t\t1\n",
      "0\t\t1\n",
      "0\t\t0\n",
      "1\t\t0\n",
      "1\t\t0\n",
      "0\t\t0\n",
      "0\t\t0\n",
      "0\t\t0\n",
      "1\t\t0\n",
      "1\t\t1\n",
      "1\t\t1\n",
      "0\t\t0\n",
      "0\t\t1\n",
      "0\t\t0\n",
      "0\t\t0\n",
      "1\t\t1\n",
      "0\t\t0\n",
      "0\t\t1\n",
      "0\t\t0\n",
      "0\t\t0\n",
      "0\t\t0\n",
      "0\t\t0\n",
      "1\t\t0\n",
      "1\t\t1\n",
      "0\t\t0\n",
      "0\t\t1\n",
      "1\t\t0\n",
      "1\t\t1\n",
      "0\t\t0\n",
      "0\t\t1\n",
      "1\t\t1\n",
      "0\t\t0\n",
      "0\t\t0\n",
      "0\t\t0\n",
      "0\t\t0\n",
      "0\t\t1\n",
      "1\t\t1\n",
      "0\t\t0\n",
      "0\t\t0\n",
      "0\t\t0\n",
      "0\t\t1\n",
      "0\t\t0\n",
      "1\t\t1\n",
      "0\t\t1\n",
      "0\t\t0\n",
      "0\t\t0\n",
      "1\t\t1\n",
      "0\t\t0\n",
      "0\t\t0\n",
      "0\t\t1\n",
      "1\t\t1\n",
      "0\t\t0\n",
      "0\t\t0\n",
      "0\t\t1\n",
      "0\t\t0\n",
      "0\t\t0\n",
      "1\t\t1\n",
      "0\t\t0\n",
      "0\t\t0\n",
      "0\t\t0\n",
      "0\t\t0\n",
      "1\t\t0\n",
      "1\t\t0\n",
      "0\t\t0\n",
      "1\t\t1\n",
      "0\t\t1\n",
      "1\t\t1\n",
      "0\t\t0\n",
      "0\t\t0\n",
      "0\t\t0\n",
      "1\t\t0\n",
      "0\t\t0\n",
      "0\t\t0\n",
      "0\t\t1\n",
      "1\t\t1\n",
      "0\t\t0\n",
      "0\t\t0\n",
      "0\t\t1\n",
      "1\t\t0\n",
      "0\t\t0\n",
      "1\t\t1\n",
      "0\t\t0\n",
      "1\t\t1\n",
      "1\t\t1\n",
      "0\t\t1\n",
      "1\t\t0\n",
      "0\t\t0\n",
      "0\t\t1\n",
      "1\t\t1\n",
      "1\t\t1\n",
      "0\t\t0\n",
      "0\t\t1\n",
      "0\t\t0\n",
      "1\t\t1\n",
      "0\t\t0\n",
      "1\t\t1\n",
      "0\t\t0\n",
      "0\t\t0\n",
      "0\t\t0\n",
      "1\t\t0\n",
      "1\t\t1\n",
      "0\t\t0\n"
     ]
    }
   ],
   "source": [
    "for x, y in zip(predictions_list, Outcome_list):\n",
    "    print(x, y, sep='\\t\\t')"
   ]
  },
  {
   "cell_type": "code",
   "execution_count": null,
   "metadata": {},
   "outputs": [],
   "source": []
  }
 ],
 "metadata": {
  "kernelspec": {
   "display_name": "Python 3",
   "language": "python",
   "name": "python3"
  },
  "language_info": {
   "codemirror_mode": {
    "name": "ipython",
    "version": 3
   },
   "file_extension": ".py",
   "mimetype": "text/x-python",
   "name": "python",
   "nbconvert_exporter": "python",
   "pygments_lexer": "ipython3",
   "version": "3.8.5"
  }
 },
 "nbformat": 4,
 "nbformat_minor": 4
}
